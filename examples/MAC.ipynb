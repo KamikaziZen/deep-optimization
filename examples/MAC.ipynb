{
 "cells": [
  {
   "cell_type": "code",
   "execution_count": 1,
   "id": "9e799f9f-dbc3-44c5-9544-35dc502f2bee",
   "metadata": {
    "tags": []
   },
   "outputs": [],
   "source": [
    "import sys\n",
    "if '..' not in sys.path:\n",
    "    sys.path.append('..')"
   ]
  },
  {
   "cell_type": "code",
   "execution_count": 4,
   "id": "175ad4f5-eedb-4d98-8cf5-72974a1d8139",
   "metadata": {
    "tags": []
   },
   "outputs": [],
   "source": [
    "import torch\n",
    "import torch.nn as nn\n",
    "from torch.utils.data import DataLoader\n",
    "from torchvision import transforms\n",
    "from torchvision.datasets import USPS\n",
    "\n",
    "import matplotlib.pyplot as plt\n",
    "import numpy as np\n",
    "\n",
    "from source.models import AE_ReLU, AE_Sigm\n",
    "from source.data import get_train_test_dataloaders\n",
    "from source.eval import eval_loss\n",
    "\n",
    "from functools import partial\n",
    "import copy\n",
    "import math\n",
    "import gc\n",
    "from tqdm import tqdm\n",
    "# from multiprocessing import Pool\n",
    "import torch.multiprocessing as mp\n",
    "from collections import OrderedDict\n",
    "\n",
    "# device = torch.device(\"cuda:0\" if torch.cuda.is_available() else \"cpu\")\n",
    "device = 'cpu'"
   ]
  },
  {
   "cell_type": "code",
   "execution_count": 5,
   "id": "3259805a-6287-4e46-bf99-99a41eac0a0e",
   "metadata": {
    "tags": []
   },
   "outputs": [],
   "source": [
    "def plot_progress(x, z):\n",
    "    rows = 2\n",
    "    cols = 16\n",
    "    x, z = x[:cols], z[:cols]\n",
    "    fig, ax = plt.subplots(rows, cols, sharex=True, sharey=True, figsize=(cols, rows))\n",
    "    for i in range(len(x)):\n",
    "        # ax[i//cols, i%cols].imshow(x[i].cpu().reshape([16, 16]), 'gray')\n",
    "        # ax[i//cols, i%cols].set_axis_off()\n",
    "        ax[0, i].imshow(x[i].cpu().reshape([16, 16]), 'gray')\n",
    "        ax[0, i].set_axis_off()\n",
    "    for i in range(len(z)):\n",
    "        # ax[i//cols+2, i%cols].imshow(z[i].detach().cpu().numpy().reshape([16, 16]), 'gray')\n",
    "        # ax[i//cols+2, i%cols].set_axis_off()\n",
    "        ax[1, i].imshow(z[i].detach().cpu().numpy().reshape([16, 16]), 'gray')\n",
    "        ax[1, i].set_axis_off()\n",
    "    plt.show()"
   ]
  },
  {
   "cell_type": "code",
   "execution_count": 6,
   "id": "8cbcad86-bdd2-4427-86a2-a7d0f141a6f6",
   "metadata": {
    "tags": []
   },
   "outputs": [
    {
     "data": {
      "text/plain": [
       "(1, 1)"
      ]
     },
     "execution_count": 6,
     "metadata": {},
     "output_type": "execute_result"
    }
   ],
   "source": [
    "train_loader, test_loader = get_train_test_dataloaders('..', 'USPS', \n",
    "                                                       batch_size=7291, \n",
    "                                                       drop_last=False,\n",
    "                                                       num_workers=4)\n",
    "len(train_loader), len(test_loader)"
   ]
  },
  {
   "cell_type": "code",
   "execution_count": 8,
   "id": "78d5756d-8368-4071-951e-e9cc0e6aa413",
   "metadata": {
    "tags": []
   },
   "outputs": [
    {
     "name": "stdout",
     "output_type": "stream",
     "text": [
      "Random-initialized model loss: 0.16216500103473663\n"
     ]
    }
   ],
   "source": [
    "model = AE_ReLU(bias=False).to(device)\n",
    "loss_function = torch.nn.MSELoss()\n",
    "print('Random-initialized model loss: '\n",
    "      f'{eval_loss(model, test_loader, loss_function, device=device)}')"
   ]
  },
  {
   "cell_type": "code",
   "execution_count": 9,
   "id": "acc034e1-b9e4-4425-a449-d89d73a30cf4",
   "metadata": {
    "tags": []
   },
   "outputs": [
    {
     "name": "stdout",
     "output_type": "stream",
     "text": [
      "Random-initialized model reconstruction results:\n"
     ]
    },
    {
     "data": {
      "image/png": "[encoded data removed]",
      "text/plain": [
       "<Figure size 1600x200 with 32 Axes>"
      ]
     },
     "metadata": {},
     "output_type": "display_data"
    }
   ],
   "source": [
    "for x, _ in train_loader:\n",
    "    with torch.no_grad():\n",
    "        z = model(x)\n",
    "    \n",
    "    print('Random-initialized model reconstruction results:')\n",
    "    plot_progress(x, z)\n",
    "    \n",
    "    break"
   ]
  },
  {
   "cell_type": "code",
   "execution_count": 10,
   "id": "1a227044-f30c-4ead-9179-c3f3dffaeaad",
   "metadata": {
    "tags": []
   },
   "outputs": [
    {
     "name": "stdout",
     "output_type": "stream",
     "text": [
      "torch.Size([7291, 300])\n",
      "torch.Size([7291, 100])\n",
      "torch.Size([7291, 20])\n",
      "torch.Size([7291, 100])\n",
      "torch.Size([7291, 300])\n",
      "torch.Size([7291, 256])\n"
     ]
    }
   ],
   "source": [
    "CACHE_OUTPUTS = {}\n",
    "CACHE_RELUS = {}\n",
    "\n",
    "def cache_relu_hook(idx, module, input, output):\n",
    "    CACHE_RELUS[idx] = output.detach().cpu()\n",
    "    \n",
    "def cache_output_hook(idx, module, input, output):\n",
    "    CACHE_OUTPUTS[idx] = output.detach().cpu()\n",
    "\n",
    "i, j = 0 , 0\n",
    "relu_handles = []\n",
    "for m in model.modules():\n",
    "    if isinstance(m, nn.ReLU):\n",
    "        handle = m.register_forward_hook(partial(cache_relu_hook, i))\n",
    "        i += 1\n",
    "        relu_handles.append(handle)\n",
    "    # elif isinstance(m, nn.Linear):\n",
    "    #     handle = m.register_forward_hook(partial(cache_output_hook, j))\n",
    "    #     j += 1\n",
    "        \n",
    "# caching activations\n",
    "with torch.no_grad():\n",
    "    for x, _ in train_loader:\n",
    "        x = x.to(device)\n",
    "        _ = model(x)\n",
    "        x = x.cpu()\n",
    "        \n",
    "# sizes of cached activattions\n",
    "for i in range(len(CACHE_RELUS)):\n",
    "    print(CACHE_RELUS[i].shape)"
   ]
  },
  {
   "cell_type": "code",
   "execution_count": 11,
   "id": "3d7963b7-26f4-4224-a643-17be00314d62",
   "metadata": {
    "tags": []
   },
   "outputs": [
    {
     "data": {
      "text/plain": [
       "0.16216500103473663"
      ]
     },
     "execution_count": 11,
     "metadata": {},
     "output_type": "execute_result"
    }
   ],
   "source": [
    "# removing hooks\n",
    "for m in model.modules():\n",
    "    if isinstance(m, nn.ReLU):\n",
    "        m._forward_hooks = OrderedDict()"
   ]
  },
  {
   "cell_type": "code",
   "execution_count": null,
   "id": "03ec6e01-ba65-4650-bc90-defca092b55d",
   "metadata": {},
   "outputs": [],
   "source": [
    "# making sure that the eval loss hasn't changed\n",
    "eval_loss(model, test_loader, loss_function, device=device)"
   ]
  },
  {
   "cell_type": "code",
   "execution_count": 13,
   "id": "db6a0b65-ff45-4d88-8169-3681511ef366",
   "metadata": {
    "tags": []
   },
   "outputs": [
    {
     "data": {
      "text/plain": [
       "(1076, [300, 400, 420, 520, 820, 1076])"
      ]
     },
     "execution_count": 13,
     "metadata": {},
     "output_type": "execute_result"
    }
   ],
   "source": [
    "WEIGHTS = [\n",
    "    model.encoder[0].weight.detach().cpu(),\n",
    "    model.encoder[2].weight.detach().cpu(),\n",
    "    model.encoder[4].weight.detach().cpu(),\n",
    "    model.decoder[0].weight.detach().cpu(),\n",
    "    model.decoder[2].weight.detach().cpu(),\n",
    "    model.decoder[4].weight.detach().cpu(),\n",
    "]\n",
    "\n",
    "# sum of all output shapes\n",
    "H = 0\n",
    "h_k = [0]\n",
    "for W in WEIGHTS:\n",
    "    H += W.shape[0]\n",
    "    h_k.append(W.shape[0] + h_k[-1])\n",
    "h_k = h_k[1:]\n",
    "H, h_k"
   ]
  },
  {
   "cell_type": "code",
   "execution_count": 14,
   "id": "4f8a6048-b290-4e22-94d5-bc1c621fa694",
   "metadata": {
    "tags": []
   },
   "outputs": [
    {
     "data": {
      "text/plain": [
       "AE_ReLU(\n",
       "  (encoder): Sequential(\n",
       "    (0): Linear(in_features=256, out_features=300, bias=False)\n",
       "    (1): ReLU()\n",
       "    (2): Linear(in_features=300, out_features=100, bias=False)\n",
       "    (3): ReLU()\n",
       "    (4): Linear(in_features=100, out_features=20, bias=False)\n",
       "    (5): ReLU()\n",
       "  )\n",
       "  (decoder): Sequential(\n",
       "    (0): Linear(in_features=20, out_features=100, bias=False)\n",
       "    (1): ReLU()\n",
       "    (2): Linear(in_features=100, out_features=300, bias=False)\n",
       "    (3): ReLU()\n",
       "    (4): Linear(in_features=300, out_features=256, bias=False)\n",
       "    (5): ReLU()\n",
       "  )\n",
       ")"
      ]
     },
     "execution_count": 14,
     "metadata": {},
     "output_type": "execute_result"
    }
   ],
   "source": [
    "# simple autoencoder model\n",
    "model"
   ]
  },
  {
   "cell_type": "markdown",
   "id": "c6d780ab-f18c-4a27-8a56-dd18a3db4347",
   "metadata": {},
   "source": [
    "# Gauss-Newton"
   ]
  },
  {
   "cell_type": "markdown",
   "id": "8d79c737-5b92-45c4-8d64-69dd3d58fff5",
   "metadata": {
    "tags": []
   },
   "source": [
    "## gpu, torch, J cut"
   ]
  },
  {
   "cell_type": "code",
   "execution_count": 15,
   "id": "5f85ad96-c27b-4dbd-8e72-bd7efc17d2fb",
   "metadata": {
    "tags": []
   },
   "outputs": [],
   "source": [
    "device = 'cuda'"
   ]
  },
  {
   "cell_type": "code",
   "execution_count": 6,
   "id": "c1c89e3b-cae6-4fc6-8ea5-f4b2f97c3c99",
   "metadata": {
    "tags": []
   },
   "outputs": [],
   "source": [
    "def calculate_z_residuals(cache_relus, x, h_k, WEIGHTS):\n",
    "    \n",
    "    relu = nn.ReLU()\n",
    "    \n",
    "    residuals = torch.zeros(h_k[-1])\n",
    "    start = 0\n",
    "    for layer_idx in range(len(h_k)):\n",
    "        if layer_idx == 0:\n",
    "            residuals[start:h_k[layer_idx]] = cache_relus[start:h_k[layer_idx]] - relu(torch.einsum('q,hq->h', x, WEIGHTS[layer_idx]))\n",
    "        elif layer_idx == 1:\n",
    "            residuals[start:h_k[layer_idx]] = cache_relus[start:h_k[layer_idx]] \\\n",
    "                                              - relu(torch.einsum('q,hq->h', cache_relus[:h_k[layer_idx-1]], \n",
    "                                                                             WEIGHTS[layer_idx]))\n",
    "        elif layer_idx == len(h_k) - 1:\n",
    "            residuals[start:h_k[layer_idx]] = x - relu(torch.einsum('q,hq->h', cache_relus[h_k[layer_idx-2]:h_k[layer_idx-1]], WEIGHTS[layer_idx]))\n",
    "        else:\n",
    "            residuals[start:h_k[layer_idx]] = cache_relus[start:h_k[layer_idx]] \\\n",
    "                                              - relu(torch.einsum('q,hq->h', cache_relus[h_k[layer_idx-2]:h_k[layer_idx-1]], \n",
    "                                                                             WEIGHTS[layer_idx]))\n",
    "        start = h_k[layer_idx]\n",
    "    return residuals\n",
    "\n",
    "def z_step(n_sample, cache_relus, x, WEIGHTS, mu, h_k):\n",
    "    \n",
    "    # Calculating Residuals\n",
    "    residuals = calculate_z_residuals(cache_relus, x, h_k, WEIGHTS)\n",
    "    \n",
    "    # Quadratic Penalty\n",
    "    assert len(residuals) == h_k[-1]\n",
    "    # Quadratic Penalty\n",
    "    mu_mult = torch.ones_like(residuals)\n",
    "    mu_mult[:h_k[-2]] = math.sqrt(mu)\n",
    "    residuals = mu_mult * residuals\n",
    "\n",
    "    # Building Jacobian for each sample in dataset\n",
    "    J = torch.zeros((h_k[-1], h_k[-2]))\n",
    "    for h in range(h_k[-1]):\n",
    "        if h < h_k[-2]: J[h, h] = mu\n",
    "        for layer_idx in range(len(h_k)):\n",
    "            if h < h_k[layer_idx]: break\n",
    "        if layer_idx == 0: continue\n",
    "\n",
    "        n_feature = h-h_k[layer_idx-1]\n",
    "        assert n_feature >= 0 and n_feature < WEIGHTS[layer_idx].shape[0]\n",
    "\n",
    "        if layer_idx == 1:\n",
    "            start, finish = 0, h_k[layer_idx-1]\n",
    "        elif layer_idx > 1:\n",
    "            start, finish = h_k[layer_idx-2], h_k[layer_idx-1]\n",
    "        if cache_relus[h] > 0:\n",
    "            J[h, start:finish] = - WEIGHTS[layer_idx][n_feature]\n",
    "            # Quadratic Penalty\n",
    "            if layer_idx != len(h_k)-1:\n",
    "                J[h, start:finish] *= mu\n",
    "\n",
    "    # Descent Direction\n",
    "    p = torch.linalg.lstsq(J.T@J, - J.T @ residuals, rcond=None)[0]\n",
    "    # p.T @ grad (.T doesn't matter, numpy performs inner product)\n",
    "    descent_inner_prod = (J.T @ residuals) @ p\n",
    "    try:\n",
    "        assert descent_inner_prod <= 0\n",
    "    except:\n",
    "        print(f'sample {n_sample} descent direction should be <= 0', descent_inner_prod)\n",
    "\n",
    "    # Line Search with Backtracking\n",
    "    p_ = torch.zeros(h_k[-1])\n",
    "    p_[:h_k[-2]] = p\n",
    "    alpha = 1.0\n",
    "    fw = residuals.sum() / 2\n",
    "    # recompute residuals with relus update\n",
    "    residuals_new = calculate_z_residuals(cache_relus + alpha * p_, x, h_k, WEIGHTS)\n",
    "\n",
    "    # Quadratic Penalty\n",
    "    residuals_new = mu_mult * residuals_new\n",
    "    fw_new = (residuals_new**2).sum() / 2\n",
    "    rhs = alpha * line_search_c * descent_inner_prod\n",
    "\n",
    "    max_iter, counter = 40, 0\n",
    "    # Armijo Condition\n",
    "    while fw_new - fw > rhs and counter < max_iter:\n",
    "        # step update\n",
    "        alpha *= line_search_tau\n",
    "\n",
    "        # recompute residuals with new relus update\n",
    "        residuals_new = calculate_z_residuals(cache_relus + alpha * p_, x, h_k, WEIGHTS)\n",
    "\n",
    "        # Quadratic Penalty\n",
    "        residuals_new = mu_mult * residuals_new\n",
    "        fw_new = (residuals_new**2).sum() / 2\n",
    "        rhs = alpha * line_search_c * descent_inner_prod\n",
    "\n",
    "        # print(\"Line search armijo: obj func old: %f new: %f diff: %.16f rhs: %.16f, alpha: %f\" % (fw, fw_new, fw_new - fw, rhs, alpha))\n",
    "        counter += 1\n",
    "     \n",
    "    return J, cache_relus + alpha * p_"
   ]
  },
  {
   "cell_type": "code",
   "execution_count": 7,
   "id": "19cd6e8f-95c2-40e1-b1ae-0f91dfe97bf8",
   "metadata": {
    "tags": []
   },
   "outputs": [],
   "source": [
    "def calculate_w_residuals(layer_idx, h, w_h, x, CACHE_RELUS):\n",
    "    \n",
    "    relu = nn.ReLU()\n",
    "    \n",
    "    if layer_idx == 0:\n",
    "        residuals = CACHE_RELUS[layer_idx][:,h] - relu(torch.einsum('bq,q->b', x, w_h))\n",
    "    elif layer_idx == len(CACHE_RELUS) - 1:\n",
    "        residuals = x[:,h] - relu(torch.einsum('bq,q->b', CACHE_RELUS[layer_idx-1], w_h))\n",
    "    else:\n",
    "        residuals = CACHE_RELUS[layer_idx][:,h] - relu(torch.einsum('bq,q->b', CACHE_RELUS[layer_idx-1], w_h))\n",
    "        \n",
    "    return residuals\n",
    "\n",
    "def w_step(layer_idx, h, w_h, x, CACHE_RELUS, n_samples):\n",
    "    residuals = calculate_w_residuals(layer_idx, h, w_h, x, CACHE_RELUS)\n",
    "    \n",
    "    # Building Jacobian (for each layer and output dim)\n",
    "    J = torch.zeros((n_samples, len(w_h)))\n",
    "\n",
    "    if layer_idx == 0:\n",
    "        for n in range(n_samples):\n",
    "            if CACHE_RELUS[layer_idx][n][h] > 0:\n",
    "                J[n, :] = - x[n]\n",
    "    else:\n",
    "        for n in range(n_samples):\n",
    "            if CACHE_RELUS[layer_idx][n][h] > 0:\n",
    "                J[n, :] = - CACHE_RELUS[layer_idx-1][n]\n",
    "\n",
    "    # why not inversion here?\n",
    "    p = torch.linalg.lstsq(J.T@J, - J.T @ residuals, rcond=None)[0]\n",
    "    # p.T @ grad (.T doesn't matter, numpy performs inner product)\n",
    "    descent_inner_prod = (J.T @ residuals) @ p\n",
    "    try:\n",
    "        assert descent_inner_prod <= 0\n",
    "    except:\n",
    "        # pass\n",
    "        print(f'layer {layer_idx+1} dim {h} descent(should be <= 0)', descent_inner_prod)\n",
    "\n",
    "    # Line Search with Backtracking\n",
    "    alpha = 1.0\n",
    "    fw = (residuals**2).sum() / 2\n",
    "    # First Update\n",
    "    residuals_new = calculate_w_residuals(layer_idx, h, w_h + alpha*p, x, CACHE_RELUS)\n",
    "    fw_new = (residuals_new**2).sum() / 2\n",
    "    rhs = alpha * line_search_c * descent_inner_prod\n",
    "\n",
    "    max_iter, counter = 40, 0\n",
    "    # Armijo Condition\n",
    "    while fw_new - fw > rhs and counter < max_iter:\n",
    "        alpha *= line_search_tau\n",
    "        # Update\n",
    "        residuals_new = calculate_w_residuals(layer_idx, h, w_h + alpha*p, x, CACHE_RELUS)\n",
    "        fw_new = (residuals_new**2).sum() / 2\n",
    "        rhs = alpha * line_search_c * descent_inner_prod\n",
    "\n",
    "        # print(\"Line search armijo: obj func old: %f new: %f diff: %.16f rhs: %.16f, alpha: %f\" % (fw, fw_new, fw_new - fw, rhs, alpha))\n",
    "        counter += 1\n",
    "        \n",
    "    return w_h + alpha*p"
   ]
  },
  {
   "cell_type": "code",
   "execution_count": 8,
   "id": "a80bb48b-41df-471e-a641-cd15a71eb68e",
   "metadata": {
    "tags": []
   },
   "outputs": [
    {
     "name": "stdout",
     "output_type": "stream",
     "text": [
      "Random-initialized model loss: 0.16204164922237396\n",
      "n samples: 7291\n"
     ]
    },
    {
     "name": "stderr",
     "output_type": "stream",
     "text": [
      " 83%|████████▎ | 5/6 [01:27<00:18, 18.68s/it]"
     ]
    },
    {
     "name": "stdout",
     "output_type": "stream",
     "text": [
      "layer 6 dim 35 descent(should be <= 0) tensor(3.0883e-05)\n",
      "layer 6 dim 38 descent(should be <= 0) tensor(7.3110e-05)\n",
      "layer 6 dim 67 descent(should be <= 0) tensor(0.0003)\n",
      "layer 6 dim 68 descent(should be <= 0) tensor(0.0266)\n",
      "layer 6 dim 167 descent(should be <= 0) tensor(0.0821)\n",
      "layer 6 dim 170 descent(should be <= 0) tensor(0.0029)\n",
      "layer 6 dim 193 descent(should be <= 0) tensor(3.5866e-06)\n",
      "layer 6 dim 199 descent(should be <= 0) tensor(3.2047e-08)\n",
      "layer 6 dim 202 descent(should be <= 0) tensor(8.7764e-08)\n",
      "layer 6 dim 203 descent(should be <= 0) tensor(0.1334)\n",
      "layer 6 dim 219 descent(should be <= 0) tensor(1.3836e-08)\n",
      "layer 6 dim 228 descent(should be <= 0) tensor(6.6775e-05)\n",
      "layer 6 dim 229 descent(should be <= 0) tensor(0.0092)\n"
     ]
    },
    {
     "name": "stderr",
     "output_type": "stream",
     "text": [
      "100%|██████████| 6/6 [02:16<00:00, 22.69s/it]"
     ]
    },
    {
     "name": "stdout",
     "output_type": "stream",
     "text": [
      "Layer 0, Weights Diff Norm (%): 0.0\n",
      "Layer 1, Weights Diff Norm (%): 0.0\n",
      "Layer 2, Weights Diff Norm (%): 0.0\n",
      "Layer 3, Weights Diff Norm (%): 0.0\n",
      "Layer 4, Weights Diff Norm (%): 0.0\n",
      "Layer 5, Weights Diff Norm (%): 22.883180618286133\n"
     ]
    },
    {
     "name": "stderr",
     "output_type": "stream",
     "text": [
      "\n"
     ]
    },
    {
     "name": "stdout",
     "output_type": "stream",
     "text": [
      "Epoch 1, Eval loss: 0.08307775855064392\n"
     ]
    },
    {
     "name": "stderr",
     "output_type": "stream",
     "text": [
      "100%|██████████| 7291/7291 [09:22<00:00, 12.97it/s]\n"
     ]
    },
    {
     "name": "stdout",
     "output_type": "stream",
     "text": [
      "Layer 0 Activations Diff Norm (%): 0.002363574458286166\n",
      "Layer 1 Activations Diff Norm (%): 0.02545028366148472\n",
      "Layer 2 Activations Diff Norm (%): 0.4390753507614136\n",
      "Layer 3 Activations Diff Norm (%): 1.740473747253418\n",
      "Layer 4 Activations Diff Norm (%): 7.116365909576416\n",
      "Layer 5 Activations Diff Norm (%): 0.0\n"
     ]
    },
    {
     "name": "stderr",
     "output_type": "stream",
     "text": [
      "100%|██████████| 6/6 [02:10<00:00, 21.76s/it]"
     ]
    },
    {
     "name": "stdout",
     "output_type": "stream",
     "text": [
      "Layer 0, Weights Diff Norm (%): 0.0\n",
      "Layer 1, Weights Diff Norm (%): 0.0\n",
      "Layer 2, Weights Diff Norm (%): 0.0\n",
      "Layer 3, Weights Diff Norm (%): 0.0\n",
      "Layer 4, Weights Diff Norm (%): 0.0\n",
      "Layer 5, Weights Diff Norm (%): 0.5757526159286499\n"
     ]
    },
    {
     "name": "stderr",
     "output_type": "stream",
     "text": [
      "\n"
     ]
    },
    {
     "name": "stdout",
     "output_type": "stream",
     "text": [
      "Epoch 2, Eval loss: 0.0736522227525711\n",
      "New MU: 10.0\n"
     ]
    },
    {
     "name": "stderr",
     "output_type": "stream",
     "text": [
      "100%|██████████| 7291/7291 [06:47<00:00, 17.88it/s]\n"
     ]
    },
    {
     "name": "stdout",
     "output_type": "stream",
     "text": [
      "Layer 0 Activations Diff Norm (%): 4.603633068052187e-16\n",
      "Layer 1 Activations Diff Norm (%): 4.364928489724966e-15\n",
      "Layer 2 Activations Diff Norm (%): 4.569605869912674e-14\n",
      "Layer 3 Activations Diff Norm (%): 5.248219190506255e-14\n",
      "Layer 4 Activations Diff Norm (%): 3.229284989913171e-14\n",
      "Layer 5 Activations Diff Norm (%): 0.0\n"
     ]
    },
    {
     "name": "stderr",
     "output_type": "stream",
     "text": [
      " 83%|████████▎ | 5/6 [01:38<00:20, 20.63s/it]"
     ]
    },
    {
     "name": "stdout",
     "output_type": "stream",
     "text": [
      "layer 6 dim 35 descent(should be <= 0) tensor(0.0003)\n"
     ]
    },
    {
     "name": "stderr",
     "output_type": "stream",
     "text": [
      "100%|██████████| 6/6 [02:06<00:00, 21.06s/it]"
     ]
    },
    {
     "name": "stdout",
     "output_type": "stream",
     "text": [
      "Layer 0, Weights Diff Norm (%): 0.0\n",
      "Layer 1, Weights Diff Norm (%): 0.0\n",
      "Layer 2, Weights Diff Norm (%): 0.0\n",
      "Layer 3, Weights Diff Norm (%): 0.0\n",
      "Layer 4, Weights Diff Norm (%): 0.0\n",
      "Layer 5, Weights Diff Norm (%): 0.014261732809245586\n"
     ]
    },
    {
     "name": "stderr",
     "output_type": "stream",
     "text": [
      "\n"
     ]
    },
    {
     "name": "stdout",
     "output_type": "stream",
     "text": [
      "Epoch 3, Eval loss: 0.0736452266573906\n",
      "New MU: 100.0\n"
     ]
    },
    {
     "name": "stderr",
     "output_type": "stream",
     "text": [
      "100%|██████████| 7291/7291 [06:50<00:00, 17.76it/s]\n"
     ]
    },
    {
     "name": "stdout",
     "output_type": "stream",
     "text": [
      "Layer 0 Activations Diff Norm (%): 1.215304873270341e-16\n",
      "Layer 1 Activations Diff Norm (%): 1.1238405615599271e-15\n",
      "Layer 2 Activations Diff Norm (%): 9.412190299341264e-15\n",
      "Layer 3 Activations Diff Norm (%): 1.0207278104072248e-14\n",
      "Layer 4 Activations Diff Norm (%): 4.6841108330411205e-15\n",
      "Layer 5 Activations Diff Norm (%): 0.0\n"
     ]
    },
    {
     "name": "stderr",
     "output_type": "stream",
     "text": [
      "100%|██████████| 6/6 [02:06<00:00, 21.04s/it]"
     ]
    },
    {
     "name": "stdout",
     "output_type": "stream",
     "text": [
      "Layer 0, Weights Diff Norm (%): 0.0\n",
      "Layer 1, Weights Diff Norm (%): 0.0\n",
      "Layer 2, Weights Diff Norm (%): 0.0\n",
      "Layer 3, Weights Diff Norm (%): 0.0\n",
      "Layer 4, Weights Diff Norm (%): 0.0\n",
      "Layer 5, Weights Diff Norm (%): 0.06392370909452438\n"
     ]
    },
    {
     "name": "stderr",
     "output_type": "stream",
     "text": [
      "\n"
     ]
    },
    {
     "name": "stdout",
     "output_type": "stream",
     "text": [
      "Epoch 4, Eval loss: 0.07364360243082047\n",
      "New MU: 1000.0\n"
     ]
    },
    {
     "name": "stderr",
     "output_type": "stream",
     "text": [
      "100%|██████████| 7291/7291 [06:49<00:00, 17.82it/s]\n"
     ]
    },
    {
     "name": "stdout",
     "output_type": "stream",
     "text": [
      "Layer 0 Activations Diff Norm (%): 2.4728477558308444e-18\n",
      "Layer 1 Activations Diff Norm (%): 2.2730405417893742e-17\n",
      "Layer 2 Activations Diff Norm (%): 2.0871447685717596e-16\n",
      "Layer 3 Activations Diff Norm (%): 2.0797923902406943e-16\n",
      "Layer 4 Activations Diff Norm (%): 9.427418469425239e-17\n",
      "Layer 5 Activations Diff Norm (%): 0.0\n"
     ]
    },
    {
     "name": "stderr",
     "output_type": "stream",
     "text": [
      " 83%|████████▎ | 5/6 [01:38<00:20, 20.60s/it]"
     ]
    },
    {
     "name": "stdout",
     "output_type": "stream",
     "text": [
      "layer 6 dim 35 descent(should be <= 0) tensor(0.0003)\n"
     ]
    },
    {
     "name": "stderr",
     "output_type": "stream",
     "text": [
      "100%|██████████| 6/6 [02:06<00:00, 21.01s/it]"
     ]
    },
    {
     "name": "stdout",
     "output_type": "stream",
     "text": [
      "Layer 0, Weights Diff Norm (%): 0.0\n",
      "Layer 1, Weights Diff Norm (%): 0.0\n",
      "Layer 2, Weights Diff Norm (%): 0.0\n",
      "Layer 3, Weights Diff Norm (%): 0.0\n",
      "Layer 4, Weights Diff Norm (%): 0.0\n",
      "Layer 5, Weights Diff Norm (%): 0.0\n"
     ]
    },
    {
     "name": "stderr",
     "output_type": "stream",
     "text": [
      "\n"
     ]
    },
    {
     "name": "stdout",
     "output_type": "stream",
     "text": [
      "Epoch 5, Eval loss: 0.07364360243082047\n",
      "New MU: 10000.0\n"
     ]
    },
    {
     "name": "stderr",
     "output_type": "stream",
     "text": [
      "100%|██████████| 7291/7291 [06:49<00:00, 17.83it/s]\n"
     ]
    },
    {
     "name": "stdout",
     "output_type": "stream",
     "text": [
      "Layer 0 Activations Diff Norm (%): 2.752256403280095e-20\n",
      "Layer 1 Activations Diff Norm (%): 1.1563858818447913e-18\n",
      "Layer 2 Activations Diff Norm (%): 2.7766267338636468e-18\n",
      "Layer 3 Activations Diff Norm (%): 2.4927677125471933e-18\n",
      "Layer 4 Activations Diff Norm (%): 1.0501550048825155e-18\n",
      "Layer 5 Activations Diff Norm (%): 0.0\n"
     ]
    },
    {
     "name": "stderr",
     "output_type": "stream",
     "text": [
      " 83%|████████▎ | 5/6 [01:38<00:20, 20.58s/it]"
     ]
    },
    {
     "name": "stdout",
     "output_type": "stream",
     "text": [
      "layer 6 dim 35 descent(should be <= 0) tensor(0.0003)\n"
     ]
    },
    {
     "name": "stderr",
     "output_type": "stream",
     "text": [
      "100%|██████████| 6/6 [02:06<00:00, 21.00s/it]"
     ]
    },
    {
     "name": "stdout",
     "output_type": "stream",
     "text": [
      "Layer 0, Weights Diff Norm (%): 0.0\n",
      "Layer 1, Weights Diff Norm (%): 0.0\n",
      "Layer 2, Weights Diff Norm (%): 0.0\n",
      "Layer 3, Weights Diff Norm (%): 0.0\n",
      "Layer 4, Weights Diff Norm (%): 0.0\n",
      "Layer 5, Weights Diff Norm (%): 0.034019749611616135\n"
     ]
    },
    {
     "name": "stderr",
     "output_type": "stream",
     "text": [
      "\n"
     ]
    },
    {
     "name": "stdout",
     "output_type": "stream",
     "text": [
      "Epoch 6, Eval loss: 0.07335571199655533\n",
      "New MU: 100000.0\n"
     ]
    },
    {
     "name": "stderr",
     "output_type": "stream",
     "text": [
      "100%|██████████| 7291/7291 [06:48<00:00, 17.87it/s]\n"
     ]
    },
    {
     "name": "stdout",
     "output_type": "stream",
     "text": [
      "Layer 0 Activations Diff Norm (%): 3.612190298474668e-21\n",
      "Layer 1 Activations Diff Norm (%): 3.5741910751624024e-19\n",
      "Layer 2 Activations Diff Norm (%): 6.159971111688121e-19\n",
      "Layer 3 Activations Diff Norm (%): 4.2312384717952305e-19\n",
      "Layer 4 Activations Diff Norm (%): 1.4865159390613891e-19\n",
      "Layer 5 Activations Diff Norm (%): 0.0\n"
     ]
    },
    {
     "name": "stderr",
     "output_type": "stream",
     "text": [
      " 83%|████████▎ | 5/6 [01:37<00:20, 20.53s/it]"
     ]
    },
    {
     "name": "stdout",
     "output_type": "stream",
     "text": [
      "layer 6 dim 35 descent(should be <= 0) tensor(0.0003)\n"
     ]
    },
    {
     "name": "stderr",
     "output_type": "stream",
     "text": [
      "100%|██████████| 6/6 [02:05<00:00, 20.92s/it]"
     ]
    },
    {
     "name": "stdout",
     "output_type": "stream",
     "text": [
      "Layer 0, Weights Diff Norm (%): 0.0\n",
      "Layer 1, Weights Diff Norm (%): 0.0\n",
      "Layer 2, Weights Diff Norm (%): 0.0\n",
      "Layer 3, Weights Diff Norm (%): 0.0\n",
      "Layer 4, Weights Diff Norm (%): 0.0\n",
      "Layer 5, Weights Diff Norm (%): 0.0\n"
     ]
    },
    {
     "name": "stderr",
     "output_type": "stream",
     "text": [
      "\n"
     ]
    },
    {
     "name": "stdout",
     "output_type": "stream",
     "text": [
      "Epoch 7, Eval loss: 0.07335571199655533\n",
      "New MU: 1000000.0\n"
     ]
    },
    {
     "name": "stderr",
     "output_type": "stream",
     "text": [
      "100%|██████████| 7291/7291 [06:47<00:00, 17.90it/s]\n"
     ]
    },
    {
     "name": "stdout",
     "output_type": "stream",
     "text": [
      "Layer 0 Activations Diff Norm (%): 1.139733816037226e-21\n",
      "Layer 1 Activations Diff Norm (%): 1.1301203900050008e-19\n",
      "Layer 2 Activations Diff Norm (%): 1.9518576371395467e-19\n",
      "Layer 3 Activations Diff Norm (%): 1.3410085362117467e-19\n",
      "Layer 4 Activations Diff Norm (%): 4.807974385767402e-20\n",
      "Layer 5 Activations Diff Norm (%): 0.0\n"
     ]
    },
    {
     "name": "stderr",
     "output_type": "stream",
     "text": [
      " 83%|████████▎ | 5/6 [01:38<00:20, 20.61s/it]"
     ]
    },
    {
     "name": "stdout",
     "output_type": "stream",
     "text": [
      "layer 6 dim 35 descent(should be <= 0) tensor(0.0003)\n"
     ]
    },
    {
     "name": "stderr",
     "output_type": "stream",
     "text": [
      "100%|██████████| 6/6 [02:06<00:00, 21.02s/it]"
     ]
    },
    {
     "name": "stdout",
     "output_type": "stream",
     "text": [
      "Layer 0, Weights Diff Norm (%): 0.0\n",
      "Layer 1, Weights Diff Norm (%): 0.0\n",
      "Layer 2, Weights Diff Norm (%): 0.0\n",
      "Layer 3, Weights Diff Norm (%): 0.0\n",
      "Layer 4, Weights Diff Norm (%): 0.0\n",
      "Layer 5, Weights Diff Norm (%): 0.0\n"
     ]
    },
    {
     "name": "stderr",
     "output_type": "stream",
     "text": [
      "\n"
     ]
    },
    {
     "name": "stdout",
     "output_type": "stream",
     "text": [
      "Epoch 8, Eval loss: 0.07335571199655533\n",
      "New MU: 10000000.0\n"
     ]
    },
    {
     "name": "stderr",
     "output_type": "stream",
     "text": [
      "100%|██████████| 7291/7291 [06:47<00:00, 17.90it/s]\n"
     ]
    },
    {
     "name": "stdout",
     "output_type": "stream",
     "text": [
      "Layer 0 Activations Diff Norm (%): 3.6036236476972023e-22\n",
      "Layer 1 Activations Diff Norm (%): 3.573691341750147e-20\n",
      "Layer 2 Activations Diff Norm (%): 6.206802071314781e-20\n",
      "Layer 3 Activations Diff Norm (%): 4.347879080724362e-20\n",
      "Layer 4 Activations Diff Norm (%): 1.4953784038430705e-20\n",
      "Layer 5 Activations Diff Norm (%): 0.0\n"
     ]
    },
    {
     "name": "stderr",
     "output_type": "stream",
     "text": [
      " 83%|████████▎ | 5/6 [01:37<00:20, 20.51s/it]"
     ]
    },
    {
     "name": "stdout",
     "output_type": "stream",
     "text": [
      "layer 6 dim 35 descent(should be <= 0) tensor(0.0003)\n"
     ]
    },
    {
     "name": "stderr",
     "output_type": "stream",
     "text": [
      "100%|██████████| 6/6 [02:05<00:00, 20.91s/it]"
     ]
    },
    {
     "name": "stdout",
     "output_type": "stream",
     "text": [
      "Layer 0, Weights Diff Norm (%): 0.0\n",
      "Layer 1, Weights Diff Norm (%): 0.0\n",
      "Layer 2, Weights Diff Norm (%): 0.0\n",
      "Layer 3, Weights Diff Norm (%): 0.0\n",
      "Layer 4, Weights Diff Norm (%): 0.0\n",
      "Layer 5, Weights Diff Norm (%): 0.0\n"
     ]
    },
    {
     "name": "stderr",
     "output_type": "stream",
     "text": [
      "\n"
     ]
    },
    {
     "name": "stdout",
     "output_type": "stream",
     "text": [
      "Epoch 9, Eval loss: 0.07335571199655533\n",
      "New MU: 100000000.0\n"
     ]
    },
    {
     "name": "stderr",
     "output_type": "stream",
     "text": [
      "100%|██████████| 7291/7291 [06:47<00:00, 17.91it/s]\n"
     ]
    },
    {
     "name": "stdout",
     "output_type": "stream",
     "text": [
      "Layer 0 Activations Diff Norm (%): 1.1399295040288188e-22\n",
      "Layer 1 Activations Diff Norm (%): 1.1305227681365681e-20\n",
      "Layer 2 Activations Diff Norm (%): 2.027356188793109e-20\n",
      "Layer 3 Activations Diff Norm (%): 1.3388542638598002e-20\n",
      "Layer 4 Activations Diff Norm (%): 3.3752650511344887e-21\n",
      "Layer 5 Activations Diff Norm (%): 0.0\n"
     ]
    },
    {
     "name": "stderr",
     "output_type": "stream",
     "text": [
      "100%|██████████| 6/6 [02:05<00:00, 20.90s/it]"
     ]
    },
    {
     "name": "stdout",
     "output_type": "stream",
     "text": [
      "Layer 0, Weights Diff Norm (%): 0.0\n",
      "Layer 1, Weights Diff Norm (%): 0.0\n",
      "Layer 2, Weights Diff Norm (%): 0.0\n",
      "Layer 3, Weights Diff Norm (%): 0.0\n",
      "Layer 4, Weights Diff Norm (%): 0.0\n",
      "Layer 5, Weights Diff Norm (%): 0.0\n"
     ]
    },
    {
     "name": "stderr",
     "output_type": "stream",
     "text": [
      "\n"
     ]
    },
    {
     "name": "stdout",
     "output_type": "stream",
     "text": [
      "Epoch 10, Eval loss: 0.07335571199655533\n",
      "New MU: 1000000000.0\n"
     ]
    },
    {
     "name": "stderr",
     "output_type": "stream",
     "text": [
      "100%|██████████| 7291/7291 [06:48<00:00, 17.85it/s]"
     ]
    },
    {
     "name": "stdout",
     "output_type": "stream",
     "text": [
      "Layer 0 Activations Diff Norm (%): 3.607447666712479e-23\n",
      "Layer 1 Activations Diff Norm (%): 3.5858966178705654e-21\n",
      "Layer 2 Activations Diff Norm (%): 5.930143437510752e-21\n",
      "Layer 3 Activations Diff Norm (%): 2.969284362207001e-21\n",
      "Layer 4 Activations Diff Norm (%): 6.164283311657904e-22\n",
      "Layer 5 Activations Diff Norm (%): 0.0\n",
      "CPU times: user 4h 7min 12s, sys: 26.5 s, total: 4h 7min 39s\n",
      "Wall time: 1h 32min 14s\n"
     ]
    },
    {
     "name": "stderr",
     "output_type": "stream",
     "text": [
      "\n"
     ]
    }
   ],
   "source": [
    "%%time\n",
    "\n",
    "relu = nn.ReLU()\n",
    "\n",
    "line_search_c = pow(10,-4)\n",
    "# backtracking multiplier\n",
    "line_search_tau = 0.5\n",
    "\n",
    "# Quadratic Penalty multiplier \n",
    "mu = 1.0\n",
    "\n",
    "loss_function = torch.nn.MSELoss()\n",
    "loss_hist = []\n",
    "\n",
    "# creating model\n",
    "model = AE().to(device)\n",
    "loss = eval_loss(model, test_loader, loss_function, device=device)\n",
    "loss_hist.append(loss)\n",
    "print(f'Random-initialized model loss: {loss}')\n",
    "\n",
    "WEIGHTS = [\n",
    "    model.encoder[0].weight.detach().cpu(),\n",
    "    model.encoder[2].weight.detach().cpu(),\n",
    "    model.encoder[4].weight.detach().cpu(),\n",
    "    model.decoder[0].weight.detach().cpu(),\n",
    "    model.decoder[2].weight.detach().cpu(),\n",
    "    model.decoder[4].weight.detach().cpu(),\n",
    "]\n",
    "\n",
    "# all output shapes\n",
    "h_k = [0]\n",
    "for W in WEIGHTS:\n",
    "    h_k.append(W.shape[0] + h_k[-1])\n",
    "h_k = h_k[1:]\n",
    "\n",
    "# registering hooks to cache activations\n",
    "CACHE_RELUS = {}\n",
    "\n",
    "def cache_relu_hook(idx, module, input, output):\n",
    "    CACHE_RELUS[idx] = output.detach().cpu()\n",
    "\n",
    "i = 0 \n",
    "for m in model.modules():\n",
    "    if isinstance(m, nn.ReLU):\n",
    "        handle = m.register_forward_hook(partial(cache_relu_hook, i))\n",
    "        i += 1\n",
    "        \n",
    "# caching activations\n",
    "with torch.no_grad():\n",
    "    for x, _ in train_loader:\n",
    "        x = x.to(device)\n",
    "        _ = model(x)\n",
    "        x = x.detach().cpu()\n",
    "        \n",
    "# Removing Hooks\n",
    "for m in model.modules():\n",
    "    if isinstance(m, nn.ReLU):\n",
    "        m._forward_hooks = OrderedDict()\n",
    "        \n",
    "def _get_n_sample_relus(n_sample, cache):\n",
    "    n_sample_relus = torch.zeros(h_k[-1])\n",
    "    start = 0\n",
    "    for layer_idx in range(len(h_k)):\n",
    "        n_sample_relus[start:h_k[layer_idx]] = cache[layer_idx][n_sample]\n",
    "        start = h_k[layer_idx]\n",
    "    return n_sample_relus\n",
    "\n",
    "n_samples = x.shape[0]\n",
    "print('n samples:', n_samples)\n",
    "        \n",
    "with torch.no_grad():\n",
    "    for epoch in range(10):\n",
    "        \n",
    "        # W-Step\n",
    "        WEIGHTS_COPY = copy.deepcopy(WEIGHTS)\n",
    "\n",
    "        for layer_idx in tqdm(range(len(h_k))):\n",
    "\n",
    "            for h in range(WEIGHTS[layer_idx].shape[0]):\n",
    "            # for h in range(10):\n",
    "                it = 1\n",
    "                while True:\n",
    "                    w_h = WEIGHTS[layer_idx][h]\n",
    "                    new_w_h = w_step(layer_idx, h, w_h, x, CACHE_RELUS, n_samples)\n",
    "                    rel_diff = torch.linalg.norm(new_w_h-w_h) / torch.linalg.norm(w_h)\n",
    "                    # print(f'layer_idx {layer_idx}, h: {h}, it: {it}, REL_DIFF: {rel_diff}')\n",
    "                    if rel_diff < 5:\n",
    "                        # print(f'layer_idx {layer_idx}, h: {h}, it: {it}, REL_DIFF: {rel_diff}')\n",
    "                        break\n",
    "                    it += 1\n",
    "                    WEIGHTS[layer_idx][h] = new_w_h\n",
    "                    \n",
    "        # Checking Norm Difference\n",
    "        for layer_idx in range(len(h_k)):\n",
    "            print(f'Layer {layer_idx}, '\n",
    "                  f'Weights Diff Norm (%): {torch.linalg.norm(WEIGHTS[layer_idx]-WEIGHTS_COPY[layer_idx]) / torch.linalg.norm(WEIGHTS_COPY[layer_idx])}')\n",
    "        \n",
    "        # Loading weights back to model to compute eval loss\n",
    "        model.encoder[0].weight.data = WEIGHTS[0]\n",
    "        model.encoder[2].weight.data = WEIGHTS[1]\n",
    "        model.encoder[4].weight.data = WEIGHTS[2]\n",
    "        model.decoder[0].weight.data = WEIGHTS[3]\n",
    "        model.decoder[2].weight.data = WEIGHTS[4]\n",
    "        model.decoder[4].weight.data = WEIGHTS[5]\n",
    "        model = model.to(device)\n",
    "        \n",
    "        # Loss on eval dataset\n",
    "        loss = eval_loss(model, test_loader, loss_function, device=device)\n",
    "        loss_hist.append(loss)\n",
    "        print(f'Epoch {epoch+1}, Eval loss: {loss}')\n",
    "        \n",
    "        # Updating Quandratic Penalty Multiplier\n",
    "        if abs(loss_hist[-2] - loss_hist[-1]) < 1e-2:\n",
    "            mu *= 10\n",
    "            print(f'New MU: {mu}')\n",
    "        \n",
    "        # # recalculating activations after weights update\n",
    "        # for x, _ in train_loader:\n",
    "        #     x = x.to(device)\n",
    "        #     _ = model(x)\n",
    "        #     x = x.cpu()\n",
    "    \n",
    "        # Z-Step\n",
    "        CACHE_RELUS_COPY = copy.deepcopy(CACHE_RELUS)\n",
    "        \n",
    "        # process for each sample\n",
    "        for n_sample in tqdm(range(n_samples)):\n",
    "        # for n_sample in tqdm(range(10)):\n",
    "            it = 1\n",
    "            while True:\n",
    "                relus = _get_n_sample_relus(n_sample, CACHE_RELUS)\n",
    "                J, new_relus = z_step(n_sample, relus, x[n_sample], WEIGHTS, mu, h_k)\n",
    "                start = 0\n",
    "                for layer_idx in range(len(h_k)):\n",
    "                    CACHE_RELUS[layer_idx][n_sample] = new_relus[start:h_k[layer_idx]]\n",
    "                    start = h_k[layer_idx]\n",
    "                    \n",
    "                rel_diff = torch.linalg.norm(new_relus - relus) / torch.linalg.norm(relus)\n",
    "\n",
    "                # diff less than 5%\n",
    "                if rel_diff < 0.05:\n",
    "                    # print(f'n sample: {n_sample}, it: {it}, REL_DIFF: {rel_diff}')\n",
    "                    break\n",
    "                it += 1\n",
    "\n",
    "        # Computing Relus Norm Difference\n",
    "        for layer_idx in range(len(CACHE_RELUS)):\n",
    "            print(f'Layer {layer_idx} Activations Diff Norm (%): '\n",
    "                  f'{torch.linalg.norm(CACHE_RELUS[layer_idx]-CACHE_RELUS_COPY[layer_idx]) / torch.linalg.norm(CACHE_RELUS_COPY[layer_idx])}')\n",
    "           \n",
    "        # print()"
   ]
  },
  {
   "cell_type": "code",
   "execution_count": 12,
   "id": "5810c66c-9e99-4bc1-b712-cef4e47cd457",
   "metadata": {},
   "outputs": [
    {
     "data": {
      "text/plain": [
       "<matplotlib.image.AxesImage at 0x15545cd16040>"
      ]
     },
     "execution_count": 12,
     "metadata": {},
     "output_type": "execute_result"
    },
    {
     "data": {
      "image/png": "[encoded data removed]",
      "text/plain": [
       "<Figure size 640x480 with 1 Axes>"
      ]
     },
     "metadata": {},
     "output_type": "display_data"
    }
   ],
   "source": [
    "plt.spy(J)"
   ]
  },
  {
   "cell_type": "code",
   "execution_count": 13,
   "id": "d3dcbf11-feda-4608-a0da-cc5f81bb6200",
   "metadata": {
    "tags": []
   },
   "outputs": [
    {
     "name": "stdout",
     "output_type": "stream",
     "text": [
      "Random-initialized model reconstruction results:\n"
     ]
    },
    {
     "data": {
      "image/png": "[encoded data removed]",
      "text/plain": [
       "<Figure size 1600x400 with 64 Axes>"
      ]
     },
     "metadata": {},
     "output_type": "display_data"
    }
   ],
   "source": [
    "for x, _ in train_loader:\n",
    "    x = x[32:64].to(device)\n",
    "    with torch.no_grad():\n",
    "        z = model(x)\n",
    "    \n",
    "    print('Random-initialized model reconstruction results:')\n",
    "    plot_progress(x, z)\n",
    "    \n",
    "    break"
   ]
  },
  {
   "cell_type": "code",
   "execution_count": null,
   "id": "6d4eaa41-6c93-4b08-9fff-519e5f1219b1",
   "metadata": {},
   "outputs": [],
   "source": []
  },
  {
   "cell_type": "code",
   "execution_count": null,
   "id": "90fb4811-09cb-44a5-962d-0653c48cabc9",
   "metadata": {},
   "outputs": [],
   "source": []
  },
  {
   "cell_type": "code",
   "execution_count": 55,
   "id": "a597779e-7f20-45e5-94e6-5c6d944e4d24",
   "metadata": {
    "tags": []
   },
   "outputs": [
    {
     "name": "stderr",
     "output_type": "stream",
     "text": [
      "100%|██████████| 6/6 [01:56<00:00, 19.37s/it]"
     ]
    },
    {
     "name": "stdout",
     "output_type": "stream",
     "text": [
      "Layer 0, Weights Diff Norm: 9.252866584574804e-05\n",
      "Layer 1, Weights Diff Norm: 8.079350664047524e-05\n",
      "Layer 2, Weights Diff Norm: 0.0001753252581693232\n",
      "Layer 3, Weights Diff Norm: 0.0003796993405558169\n",
      "Layer 4, Weights Diff Norm: 0.00022098592307884246\n",
      "Layer 5, Weights Diff Norm: 53.81589889526367\n"
     ]
    },
    {
     "name": "stderr",
     "output_type": "stream",
     "text": [
      "\n"
     ]
    },
    {
     "name": "stdout",
     "output_type": "stream",
     "text": [
      "Epoch 1, Eval loss: 0.06152551621198654\n"
     ]
    },
    {
     "name": "stderr",
     "output_type": "stream",
     "text": [
      "100%|██████████| 7291/7291 [09:00<00:00, 13.50it/s]\n"
     ]
    },
    {
     "name": "stdout",
     "output_type": "stream",
     "text": [
      "Layer 0 Activations Diff Norm: 0.0\n",
      "Layer 1 Activations Diff Norm: 0.0\n",
      "Layer 2 Activations Diff Norm: 0.0\n",
      "Layer 3 Activations Diff Norm: 0.0\n",
      "Layer 4 Activations Diff Norm: 0.0\n",
      "Layer 5 Activations Diff Norm: 0.0\n"
     ]
    },
    {
     "name": "stderr",
     "output_type": "stream",
     "text": [
      "100%|██████████| 6/6 [02:04<00:00, 20.71s/it]"
     ]
    },
    {
     "name": "stdout",
     "output_type": "stream",
     "text": [
      "Layer 0, Weights Diff Norm: 9.483759640716016e-06\n",
      "Layer 1, Weights Diff Norm: 1.705144859442953e-05\n",
      "Layer 2, Weights Diff Norm: 6.40711878077127e-05\n",
      "Layer 3, Weights Diff Norm: 3.926243516616523e-05\n",
      "Layer 4, Weights Diff Norm: 0.00011110241030110046\n",
      "Layer 5, Weights Diff Norm: 0.21595144271850586\n"
     ]
    },
    {
     "name": "stderr",
     "output_type": "stream",
     "text": [
      "\n"
     ]
    },
    {
     "name": "stdout",
     "output_type": "stream",
     "text": [
      "Epoch 2, Eval loss: 0.0618380606174469\n"
     ]
    },
    {
     "name": "stderr",
     "output_type": "stream",
     "text": [
      "100%|██████████| 7291/7291 [10:02<00:00, 12.10it/s]\n"
     ]
    },
    {
     "name": "stdout",
     "output_type": "stream",
     "text": [
      "Layer 0 Activations Diff Norm: 0.0\n",
      "Layer 1 Activations Diff Norm: 0.0\n",
      "Layer 2 Activations Diff Norm: 0.0\n",
      "Layer 3 Activations Diff Norm: 0.0\n",
      "Layer 4 Activations Diff Norm: 0.0\n",
      "Layer 5 Activations Diff Norm: 0.0\n"
     ]
    },
    {
     "name": "stderr",
     "output_type": "stream",
     "text": [
      "100%|██████████| 6/6 [02:05<00:00, 20.85s/it]"
     ]
    },
    {
     "name": "stdout",
     "output_type": "stream",
     "text": [
      "Layer 0, Weights Diff Norm: 5.502930889633717e-06\n",
      "Layer 1, Weights Diff Norm: 8.199510375561658e-06\n",
      "Layer 2, Weights Diff Norm: 4.86737881146837e-05\n",
      "Layer 3, Weights Diff Norm: 1.4566425306838937e-05\n",
      "Layer 4, Weights Diff Norm: 0.0001587014994584024\n",
      "Layer 5, Weights Diff Norm: 0.17921271920204163\n"
     ]
    },
    {
     "name": "stderr",
     "output_type": "stream",
     "text": [
      "\n"
     ]
    },
    {
     "name": "stdout",
     "output_type": "stream",
     "text": [
      "Epoch 3, Eval loss: 0.061798013746738434\n"
     ]
    },
    {
     "name": "stderr",
     "output_type": "stream",
     "text": [
      "100%|██████████| 7291/7291 [10:48<00:00, 11.24it/s]\n"
     ]
    },
    {
     "name": "stdout",
     "output_type": "stream",
     "text": [
      "Layer 0 Activations Diff Norm: 0.0\n",
      "Layer 1 Activations Diff Norm: 0.0\n",
      "Layer 2 Activations Diff Norm: 0.0\n",
      "Layer 3 Activations Diff Norm: 0.0\n",
      "Layer 4 Activations Diff Norm: 0.0\n",
      "Layer 5 Activations Diff Norm: 0.0\n"
     ]
    },
    {
     "name": "stderr",
     "output_type": "stream",
     "text": [
      "100%|██████████| 6/6 [02:05<00:00, 20.89s/it]"
     ]
    },
    {
     "name": "stdout",
     "output_type": "stream",
     "text": [
      "Layer 0, Weights Diff Norm: 2.906140025515924e-06\n",
      "Layer 1, Weights Diff Norm: 5.2913201216142625e-06\n",
      "Layer 2, Weights Diff Norm: 2.1502573872567154e-05\n",
      "Layer 3, Weights Diff Norm: 0.00023309444077312946\n",
      "Layer 4, Weights Diff Norm: 0.00013369151565711945\n",
      "Layer 5, Weights Diff Norm: 0.14721262454986572\n"
     ]
    },
    {
     "name": "stderr",
     "output_type": "stream",
     "text": [
      "\n"
     ]
    },
    {
     "name": "stdout",
     "output_type": "stream",
     "text": [
      "Epoch 4, Eval loss: 0.06213661655783653\n"
     ]
    },
    {
     "name": "stderr",
     "output_type": "stream",
     "text": [
      "100%|██████████| 7291/7291 [11:15<00:00, 10.80it/s]\n"
     ]
    },
    {
     "name": "stdout",
     "output_type": "stream",
     "text": [
      "Layer 0 Activations Diff Norm: 0.0\n",
      "Layer 1 Activations Diff Norm: 0.0\n",
      "Layer 2 Activations Diff Norm: 0.0\n",
      "Layer 3 Activations Diff Norm: 0.0\n",
      "Layer 4 Activations Diff Norm: 0.0\n",
      "Layer 5 Activations Diff Norm: 0.0\n"
     ]
    },
    {
     "name": "stderr",
     "output_type": "stream",
     "text": [
      "100%|██████████| 6/6 [02:05<00:00, 20.98s/it]"
     ]
    },
    {
     "name": "stdout",
     "output_type": "stream",
     "text": [
      "Layer 0, Weights Diff Norm: 1.6730472225390258e-06\n",
      "Layer 1, Weights Diff Norm: 4.2177903196716215e-06\n",
      "Layer 2, Weights Diff Norm: 2.899955870816484e-05\n",
      "Layer 3, Weights Diff Norm: 5.9269001212669536e-05\n",
      "Layer 4, Weights Diff Norm: 7.168505544541404e-05\n",
      "Layer 5, Weights Diff Norm: 0.07925637811422348\n"
     ]
    },
    {
     "name": "stderr",
     "output_type": "stream",
     "text": [
      "\n"
     ]
    },
    {
     "name": "stdout",
     "output_type": "stream",
     "text": [
      "Epoch 5, Eval loss: 0.06229625642299652\n"
     ]
    },
    {
     "name": "stderr",
     "output_type": "stream",
     "text": [
      "100%|██████████| 7291/7291 [07:50<00:00, 15.49it/s]\n"
     ]
    },
    {
     "name": "stdout",
     "output_type": "stream",
     "text": [
      "Layer 0 Activations Diff Norm: 0.0\n",
      "Layer 1 Activations Diff Norm: 0.0\n",
      "Layer 2 Activations Diff Norm: 0.0\n",
      "Layer 3 Activations Diff Norm: 0.0\n",
      "Layer 4 Activations Diff Norm: 0.0\n",
      "Layer 5 Activations Diff Norm: 0.0\n"
     ]
    },
    {
     "name": "stderr",
     "output_type": "stream",
     "text": [
      "100%|██████████| 6/6 [02:05<00:00, 20.95s/it]"
     ]
    },
    {
     "name": "stdout",
     "output_type": "stream",
     "text": [
      "Layer 0, Weights Diff Norm: 3.632222615124192e-06\n",
      "Layer 1, Weights Diff Norm: 3.219540531063103e-06\n",
      "Layer 2, Weights Diff Norm: 1.6122861779876985e-05\n",
      "Layer 3, Weights Diff Norm: 3.613807564306626e-08\n",
      "Layer 4, Weights Diff Norm: 9.381707786815241e-05\n",
      "Layer 5, Weights Diff Norm: 0.11037002503871918\n"
     ]
    },
    {
     "name": "stderr",
     "output_type": "stream",
     "text": [
      "\n"
     ]
    },
    {
     "name": "stdout",
     "output_type": "stream",
     "text": [
      "Epoch 6, Eval loss: 0.062200043350458145\n"
     ]
    },
    {
     "name": "stderr",
     "output_type": "stream",
     "text": [
      "  0%|          | 0/7291 [00:00<?, ?it/s]"
     ]
    },
    {
     "name": "stdout",
     "output_type": "stream",
     "text": [
      "\n",
      "Intel MKL ERROR: Parameter 4 was incorrect on entry to SGELSY.\n"
     ]
    },
    {
     "name": "stderr",
     "output_type": "stream",
     "text": [
      "\n"
     ]
    },
    {
     "ename": "RuntimeError",
     "evalue": "falseINTERNAL ASSERT FAILED at \"../aten/src/ATen/native/LinearAlgebraUtils.h\":328, please report a bug to PyTorch. torch.linalg.lstsq: Argument 4 has illegal value. Most certainly there is a bug in the implementation calling the backend library.",
     "output_type": "error",
     "traceback": [
      "\u001b[0;31m---------------------------------------------------------------------------\u001b[0m",
      "\u001b[0;31mRuntimeError\u001b[0m                              Traceback (most recent call last)",
      "File \u001b[0;32m<timed exec>:201\u001b[0m\n",
      "\u001b[0;31mRuntimeError\u001b[0m: falseINTERNAL ASSERT FAILED at \"../aten/src/ATen/native/LinearAlgebraUtils.h\":328, please report a bug to PyTorch. torch.linalg.lstsq: Argument 4 has illegal value. Most certainly there is a bug in the implementation calling the backend library."
     ]
    }
   ],
   "source": [
    "%%time\n",
    "\n",
    "relu = nn.ReLU()\n",
    "line_search_c = pow(10,-4)\n",
    "# backtracking multiplier\n",
    "line_search_tau = 0.5\n",
    "alphas_w = []\n",
    "alphas_z = []\n",
    "loss_hist = []\n",
    "mu = 1.0\n",
    "\n",
    "# registering hooks to cache activations\n",
    "model = AE().to(device)\n",
    "\n",
    "WEIGHTS = [\n",
    "    model.encoder[0].weight.detach().cpu(),\n",
    "    model.encoder[2].weight.detach().cpu(),\n",
    "    model.encoder[4].weight.detach().cpu(),\n",
    "    model.decoder[0].weight.detach().cpu(),\n",
    "    model.decoder[2].weight.detach().cpu(),\n",
    "    model.decoder[4].weight.detach().cpu(),\n",
    "]\n",
    "\n",
    "# sum of all output shapes\n",
    "H = 0\n",
    "h_k = [0]\n",
    "for W in WEIGHTS:\n",
    "    H += W.shape[0]\n",
    "    h_k.append(W.shape[0] + h_k[-1])\n",
    "h_k = h_k[1:]\n",
    "\n",
    "CACHE_OUTPUTS = {}\n",
    "CACHE_RELUS = {}\n",
    "\n",
    "def cache_relu_hook(idx, module, input, output):\n",
    "    CACHE_RELUS[idx] = output.detach().cpu()\n",
    "\n",
    "i = 0 \n",
    "for m in model.modules():\n",
    "    if isinstance(m, nn.ReLU):\n",
    "        handle = m.register_forward_hook(partial(cache_relu_hook, i))\n",
    "        i += 1\n",
    "        \n",
    "# caching activations\n",
    "with torch.no_grad():\n",
    "    for x, _ in train_loader:\n",
    "        x = x.to(device)\n",
    "        _ = model(x)\n",
    "        x = x.cpu()\n",
    "        \n",
    "        \n",
    "with torch.no_grad():\n",
    "    for epoch in range(10):\n",
    "        \n",
    "        # W-Step\n",
    "        WEIGHTS_COPY = copy.deepcopy(WEIGHTS)\n",
    "\n",
    "        for layer_idx in tqdm(range(len(CACHE_RELUS))):\n",
    "            in_dim = WEIGHTS[layer_idx].shape[1]\n",
    "            out_dim = WEIGHTS[layer_idx].shape[0]\n",
    "            n_samples = CACHE_RELUS[layer_idx].shape[0]\n",
    "\n",
    "            if layer_idx == 0:\n",
    "                residuals = CACHE_RELUS[layer_idx] - relu(x @ WEIGHTS[layer_idx].T)\n",
    "            elif layer_idx == len(CACHE_RELUS) - 1:\n",
    "                # reconstruction task\n",
    "                residuals = x - relu(CACHE_RELUS[layer_idx-1] @ WEIGHTS[layer_idx].T)\n",
    "            else:\n",
    "                residuals = CACHE_RELUS[layer_idx] - relu(CACHE_RELUS[layer_idx-1] @ WEIGHTS[layer_idx].T)\n",
    "            # print('residuals:', residuals.shape)\n",
    "\n",
    "            for h in range(out_dim):\n",
    "                # Building Jacobian (for each layer and output dim)\n",
    "                J = torch.zeros((n_samples, in_dim))\n",
    "                w = WEIGHTS[layer_idx][h]\n",
    "\n",
    "                if layer_idx == 0:\n",
    "                    for n in range(n_samples):\n",
    "                        if CACHE_RELUS[layer_idx][n][h] > 0:\n",
    "                            J[n, :] = - x[n]\n",
    "                else:\n",
    "                    for n in range(n_samples):\n",
    "                        if CACHE_RELUS[layer_idx][n][h] > 0:\n",
    "                            J[n, :] = - CACHE_RELUS[layer_idx-1][n]\n",
    "\n",
    "                p = torch.linalg.lstsq(J.T@J, - J.T @ residuals[:, h])[0]\n",
    "                # print('shape of p:', p.shape, 'shape of w:', w.shape)\n",
    "                # p.T @ grad (.T doesn't matter, numpy performs inner product)\n",
    "                descent_inner_prod = (J.T @ residuals[:, h]) @ p\n",
    "                try:\n",
    "                    assert descent_inner_prod <= 0\n",
    "                except:\n",
    "                    pass\n",
    "                    # print(f'layer {layer_idx+1} dim {h} descent(should be <= 0)', descent_inner_prod)\n",
    "\n",
    "                # Line Search with Backtracking\n",
    "                alpha = 1.0\n",
    "                fw = (residuals[:,h]**2).sum() / 2\n",
    "                # First Update\n",
    "                w += alpha*p\n",
    "                if layer_idx == 0:\n",
    "                    residuals_new = CACHE_RELUS[layer_idx][:,h] - relu(torch.einsum('bq,q->b', x, w))\n",
    "                elif layer_idx == len(CACHE_RELUS) - 1:\n",
    "                    residuals_new = x[:,h] - relu(torch.einsum('bq,q->b', CACHE_RELUS[layer_idx-1], w))\n",
    "                else:\n",
    "                    residuals_new = CACHE_RELUS[layer_idx][:,h] - relu(torch.einsum('bq,q->b', CACHE_RELUS[layer_idx-1], w))\n",
    "                fw_new = (residuals_new**2).sum() / 2\n",
    "                rhs = alpha * line_search_c * descent_inner_prod\n",
    "\n",
    "                max_iter, counter = 40, 0\n",
    "                # Armijo Condition\n",
    "                while fw_new - fw > rhs and counter < max_iter:\n",
    "                    alpha *= line_search_tau\n",
    "                    # Update\n",
    "                    w = WEIGHTS_COPY[layer_idx][h] + alpha * p\n",
    "                    if layer_idx == 0:\n",
    "                        residuals_new = CACHE_RELUS[layer_idx][:,h] - relu(torch.einsum('bq,q->b', x, w))\n",
    "                    else:\n",
    "                        residuals_new = CACHE_RELUS[layer_idx][:,h] - relu(torch.einsum('bq,q->b', CACHE_RELUS[layer_idx-1], w))\n",
    "                    fw_new = (residuals_new**2).sum() / 2\n",
    "                    rhs = alpha * line_search_c * descent_inner_prod\n",
    "\n",
    "                    # print(\"Line search armijo: obj func old: %f new: %f diff: %.16f rhs: %.16f, alpha: %f\" % (fw, fw_new, fw_new - fw, rhs, alpha))\n",
    "                    counter += 1\n",
    "                # alphas_w.append(alpha)\n",
    "\n",
    "        for layer_idx in range(len(CACHE_RELUS)):\n",
    "            print(f'Layer {layer_idx}, '\n",
    "                  f'Weights Diff Norm: {torch.linalg.norm(WEIGHTS[layer_idx]-WEIGHTS_COPY[layer_idx]) / torch.linalg.norm(WEIGHTS_COPY[layer_idx])}')\n",
    "        model.encoder[0].weight.data = WEIGHTS[0]\n",
    "        model.encoder[2].weight.data = WEIGHTS[1]\n",
    "        model.encoder[4].weight.data = WEIGHTS[2]\n",
    "        model.decoder[0].weight.data = WEIGHTS[3]\n",
    "        model.decoder[2].weight.data = WEIGHTS[4]\n",
    "        model.decoder[4].weight.data = WEIGHTS[5]\n",
    "        model = model.to(device)\n",
    "        \n",
    "        # Removing Hooks\n",
    "        for m in model.modules():\n",
    "            if isinstance(m, nn.ReLU):\n",
    "                m._forward_hooks = OrderedDict()\n",
    "        # Loss on eval dataset\n",
    "        loss = eval_loss(model, test_loader, loss_function, device=device)\n",
    "        loss_hist.append(loss)\n",
    "        print(f'Epoch {epoch+1}, Eval loss: {loss}')\n",
    "        # Putting hooks back\n",
    "        i = 0 \n",
    "        for m in model.modules():\n",
    "            if isinstance(m, nn.ReLU):\n",
    "                handle = m.register_forward_hook(partial(cache_relu_hook, i))\n",
    "                i += 1\n",
    "        \n",
    "        # # recalculating activations after weights update\n",
    "        # for x, _ in train_loader:\n",
    "        #     x = x.to(device)\n",
    "        #     _ = model(x)\n",
    "        #     x = x.cpu()\n",
    "\n",
    "        # Z-Step\n",
    "        CACHE_RELUS_COPY = copy.deepcopy(CACHE_RELUS)\n",
    "            \n",
    "        for n_sample in tqdm(range(len(x))):\n",
    "\n",
    "            # Calculating Residuals\n",
    "            residuals = torch.zeros(H)\n",
    "            start = 0\n",
    "            for layer_idx in range(len(h_k)):\n",
    "                if layer_idx == 0:\n",
    "                    residuals[start:h_k[layer_idx]] = CACHE_RELUS[layer_idx][n_sample] - relu(torch.einsum('q,hq->h', x[n_sample], WEIGHTS[layer_idx]))\n",
    "                elif layer_idx == len(CACHE_RELUS) - 1:\n",
    "                    residuals[start:h_k[layer_idx]] = x[n_sample] - relu(torch.einsum('q,hq->h', CACHE_RELUS[layer_idx-1][n_sample], WEIGHTS[layer_idx]))\n",
    "                else:\n",
    "                    residuals[start:h_k[layer_idx]] = CACHE_RELUS[layer_idx][n_sample] - relu(torch.einsum('q,hq->h', CACHE_RELUS[layer_idx-1][n_sample], WEIGHTS[layer_idx]))\n",
    "                start = h_k[layer_idx]\n",
    "            # Quadratic Penalty\n",
    "            mu_mult = torch.ones_like(residuals)\n",
    "            mu_mult[:h_k[-2]] = math.sqrt(mu)\n",
    "            residuals = mu_mult * residuals\n",
    "\n",
    "            # Building Jacobian for each sample in dataset\n",
    "            J = torch.zeros((H, H))\n",
    "            for h in range(H):\n",
    "                if h < h_k[-2]: J[h, h] = 1\n",
    "                for layer_idx in range(len(h_k)):\n",
    "                    if h <= h_k[layer_idx]: break\n",
    "                if layer_idx == 0: continue\n",
    "\n",
    "                n_feature = h-h_k[layer_idx-1]-1\n",
    "                assert n_feature >= 0 and n_feature < WEIGHTS[layer_idx].shape[0]\n",
    "\n",
    "                if layer_idx == 1:\n",
    "                    start, finish = 0, h_k[layer_idx-1]\n",
    "                elif layer_idx > 1:\n",
    "                    start, finish = h_k[layer_idx-2], h_k[layer_idx-1]\n",
    "                # print(CACHE_RELUS[layer_idx][n_sample][n_feature])\n",
    "                if CACHE_RELUS[layer_idx][n_sample][n_feature] > 0:\n",
    "                    # print(start, finish, n_feature, WEIGHTS[layer_idx][n_feature].shape)\n",
    "                    J[h, start:finish] = - WEIGHTS[layer_idx][n_feature]\n",
    "                    # Quadratic Penalty\n",
    "                    if layer_idx != len(CACHE_RELUS)-1:\n",
    "                        J[h, start:finish] *= mu\n",
    "\n",
    "            # Descent Direction\n",
    "            p = torch.linalg.lstsq(J.T@J, - J.T @ residuals)[0]\n",
    "            # print('shape of p:', p.shape, 'shape of w:', w.shape)\n",
    "            # p.T @ grad (.T doesn't matter, numpy performs inner product)\n",
    "            descent_inner_prod = (J.T @ residuals) @ p\n",
    "            try:\n",
    "                assert descent_inner_prod <= 0\n",
    "            except:\n",
    "                print(f'sample {n_sample} descent direction should be <= 0', descent_inner_prod)\n",
    "\n",
    "            # Line Search with Backtracking\n",
    "            alpha = 1.0\n",
    "            fw = residuals.sum() / 2\n",
    "            # update\n",
    "            for layer_idx in range(len(CACHE_RELUS)):\n",
    "                if layer_idx == 0:\n",
    "                    start, finish = 0, h_k[layer_idx]\n",
    "                else:\n",
    "                    start, finish = h_k[layer_idx-1], h_k[layer_idx]\n",
    "\n",
    "                CACHE_RELUS[layer_idx][n_sample] = CACHE_RELUS_COPY[layer_idx][n_sample] + alpha * p[start:finish]\n",
    "                \n",
    "            residuals_new = torch.zeros(H)\n",
    "            start = 0\n",
    "            for layer_idx in range(len(h_k)):\n",
    "                if layer_idx == 0:\n",
    "                    residuals_new[start:h_k[layer_idx]] = CACHE_RELUS[layer_idx][n_sample] - relu(torch.einsum('q,hq->h', x[n_sample], WEIGHTS[layer_idx]))\n",
    "                elif layer_idx == len(CACHE_RELUS) - 1:\n",
    "                    residuals_new[start:h_k[layer_idx]] = x[n_sample] - relu(torch.einsum('q,hq->h', CACHE_RELUS[layer_idx-1][n_sample], WEIGHTS[layer_idx]))\n",
    "                else:\n",
    "                    residuals_new[start:h_k[layer_idx]] = CACHE_RELUS[layer_idx][n_sample] - relu(torch.einsum('q,hq->h', CACHE_RELUS[layer_idx-1][n_sample], WEIGHTS[layer_idx]))\n",
    "                start = h_k[layer_idx]\n",
    "            # Quadratic Penalty\n",
    "            residuals_new = mu_mult * residuals_new\n",
    "            fw_new = (residuals_new**2).sum() / 2\n",
    "            rhs = alpha * line_search_c * descent_inner_prod\n",
    "            # print('fw:', fw, fw_new, rhs)\n",
    "            \n",
    "\n",
    "            max_iter, counter = 40, 0\n",
    "            # Armijo Condition\n",
    "            while fw_new - fw > rhs and counter < max_iter:\n",
    "                # step update\n",
    "                alpha *= line_search_tau\n",
    "                \n",
    "                # relus update\n",
    "                for layer_idx in range(len(CACHE_RELUS)):\n",
    "                    if layer_idx == 0:\n",
    "                        start, finish = 0, h_k[layer_idx]\n",
    "                    else:\n",
    "                        start, finish = h_k[layer_idx-1], h_k[layer_idx]\n",
    "\n",
    "                    CACHE_RELUS[layer_idx][n_sample] = CACHE_RELUS_COPY[layer_idx][n_sample] + alpha * p[start:finish]\n",
    "                    \n",
    "                # recompute residuals\n",
    "                start = 0\n",
    "                for layer_idx in range(len(h_k)):\n",
    "                    if layer_idx == 0:\n",
    "                        residuals_new[start:h_k[layer_idx]] = CACHE_RELUS[layer_idx][n_sample] - relu(torch.einsum('q,hq->h', x[n_sample], WEIGHTS[layer_idx]))\n",
    "                    elif layer_idx == len(CACHE_RELUS) - 1:\n",
    "                        residuals_new[start:h_k[layer_idx]] = x[n_sample] - relu(torch.einsum('q,hq->h', CACHE_RELUS[layer_idx-1][n_sample], WEIGHTS[layer_idx]))\n",
    "                    else:\n",
    "                        residuals_new[start:h_k[layer_idx]] = CACHE_RELUS[layer_idx][n_sample] - relu(torch.einsum('q,hq->h', CACHE_RELUS[layer_idx-1][n_sample], WEIGHTS[layer_idx]))\n",
    "                    start = h_k[layer_idx]\n",
    "                # Quadratic Penalty\n",
    "                residuals_new = mu_mult * residuals_new\n",
    "                fw_new = (residuals_new**2).sum() / 2\n",
    "                rhs = alpha * line_search_c * descent_inner_prod\n",
    "\n",
    "                # print(\"Line search armijo: obj func old: %f new: %f diff: %.16f rhs: %.16f, alpha: %f\" % (fw, fw_new, fw_new - fw, rhs, alpha))\n",
    "                counter += 1\n",
    "        \n",
    "        for layer_idx in range(len(CACHE_RELUS)):\n",
    "            print(f'Layer {layer_idx} Activations Diff Norm: '\n",
    "                  f'{torch.linalg.norm(CACHE_RELUS[layer_idx]-CACHE_RELUS_COPY[layer_idx]) / torch.linalg.norm(CACHE_RELUS_COPY[layer_idx])}')\n",
    "            \n",
    "        mu *= 4\n",
    "\n",
    "        # print()"
   ]
  },
  {
   "cell_type": "code",
   "execution_count": 56,
   "id": "fff19570-b0f2-46e1-9e7a-40da78be710e",
   "metadata": {
    "tags": []
   },
   "outputs": [
    {
     "data": {
      "image/png": "[encoded data removed]",
      "text/plain": [
       "<Figure size 640x480 with 1 Axes>"
      ]
     },
     "metadata": {},
     "output_type": "display_data"
    }
   ],
   "source": [
    "# Jacobian for Z-step\n",
    "plt.spy(J)\n",
    "plt.show()"
   ]
  },
  {
   "cell_type": "code",
   "execution_count": 57,
   "id": "8ee78773-fbe2-49b3-8fd0-0dc52769241a",
   "metadata": {
    "tags": []
   },
   "outputs": [
    {
     "name": "stdout",
     "output_type": "stream",
     "text": [
      "Trained model reconstruction results:\n"
     ]
    },
    {
     "data": {
      "image/png": "[encoded data removed]",
      "text/plain": [
       "<Figure size 1600x400 with 64 Axes>"
      ]
     },
     "metadata": {},
     "output_type": "display_data"
    }
   ],
   "source": [
    "for x, _ in train_loader:\n",
    "    x = x[:32].to(device)\n",
    "    with torch.no_grad():\n",
    "        z = model(x)\n",
    "    \n",
    "    print('Trained model reconstruction results:')\n",
    "    plot_progress(x, z)\n",
    "    \n",
    "    break"
   ]
  },
  {
   "cell_type": "code",
   "execution_count": 58,
   "id": "39655229-0822-4410-8510-7bb0c95c9203",
   "metadata": {
    "tags": []
   },
   "outputs": [
    {
     "name": "stdout",
     "output_type": "stream",
     "text": [
      "Eval loss: 0.062200043350458145\n"
     ]
    }
   ],
   "source": [
    "print(f'Eval loss: {eval_loss(model, test_loader, loss_function, device=device)}')"
   ]
  },
  {
   "cell_type": "code",
   "execution_count": 51,
   "id": "b827d2cf-3ef7-4ef6-9af0-75320d5986be",
   "metadata": {
    "tags": []
   },
   "outputs": [
    {
     "name": "stderr",
     "output_type": "stream",
     "text": [
      "100%|██████████| 6/6 [01:54<00:00, 19.09s/it]"
     ]
    },
    {
     "name": "stdout",
     "output_type": "stream",
     "text": [
      "Layer 0, Weights Diff Norm: 7.568952423753217e-05\n",
      "Layer 1, Weights Diff Norm: 7.839558384148404e-05\n",
      "Layer 2, Weights Diff Norm: 0.00022436623112298548\n",
      "Layer 3, Weights Diff Norm: 0.0004299689317122102\n",
      "Layer 4, Weights Diff Norm: 4.5003755076322705e-05\n",
      "Layer 5, Weights Diff Norm: 12.003912925720215\n"
     ]
    },
    {
     "name": "stderr",
     "output_type": "stream",
     "text": [
      "\n"
     ]
    },
    {
     "name": "stdout",
     "output_type": "stream",
     "text": [
      "Epoch 1, Eval loss: 0.08763116598129272\n"
     ]
    },
    {
     "name": "stderr",
     "output_type": "stream",
     "text": [
      "100%|██████████| 7291/7291 [08:27<00:00, 14.35it/s]\n"
     ]
    },
    {
     "name": "stdout",
     "output_type": "stream",
     "text": [
      "Layer 0 Activations Diff Norm: 1.0414826922831126e-22\n",
      "Layer 1 Activations Diff Norm: 0.0\n",
      "Layer 2 Activations Diff Norm: 0.0\n",
      "Layer 3 Activations Diff Norm: 0.0\n",
      "Layer 4 Activations Diff Norm: 0.0\n",
      "Layer 5 Activations Diff Norm: 0.0\n"
     ]
    },
    {
     "name": "stderr",
     "output_type": "stream",
     "text": [
      "100%|██████████| 6/6 [02:16<00:00, 22.77s/it]"
     ]
    },
    {
     "name": "stdout",
     "output_type": "stream",
     "text": [
      "Layer 0, Weights Diff Norm: 2.988283449667506e-05\n",
      "Layer 1, Weights Diff Norm: 4.108197026653215e-05\n",
      "Layer 2, Weights Diff Norm: 7.895260205259547e-05\n",
      "Layer 3, Weights Diff Norm: 0.000332422845531255\n",
      "Layer 4, Weights Diff Norm: 2.7074143872596323e-05\n",
      "Layer 5, Weights Diff Norm: 1.4477218389511108\n"
     ]
    },
    {
     "name": "stderr",
     "output_type": "stream",
     "text": [
      "\n"
     ]
    },
    {
     "name": "stdout",
     "output_type": "stream",
     "text": [
      "Epoch 2, Eval loss: 0.0752287358045578\n"
     ]
    },
    {
     "name": "stderr",
     "output_type": "stream",
     "text": [
      "100%|██████████| 7291/7291 [08:28<00:00, 14.34it/s]\n"
     ]
    },
    {
     "name": "stdout",
     "output_type": "stream",
     "text": [
      "Layer 0 Activations Diff Norm: 3.147341388298703e-23\n",
      "Layer 1 Activations Diff Norm: 0.0\n",
      "Layer 2 Activations Diff Norm: 0.0\n",
      "Layer 3 Activations Diff Norm: 0.0\n",
      "Layer 4 Activations Diff Norm: 0.0\n",
      "Layer 5 Activations Diff Norm: 0.0\n"
     ]
    },
    {
     "name": "stderr",
     "output_type": "stream",
     "text": [
      "100%|██████████| 6/6 [02:09<00:00, 21.59s/it]"
     ]
    },
    {
     "name": "stdout",
     "output_type": "stream",
     "text": [
      "Layer 0, Weights Diff Norm: 2.4067305275821127e-05\n",
      "Layer 1, Weights Diff Norm: 3.3578591683181e-05\n",
      "Layer 2, Weights Diff Norm: 6.852474325569347e-05\n",
      "Layer 3, Weights Diff Norm: 0.0010224052239209414\n",
      "Layer 4, Weights Diff Norm: 2.5172186724375933e-05\n",
      "Layer 5, Weights Diff Norm: 0.09272044152021408\n"
     ]
    },
    {
     "name": "stderr",
     "output_type": "stream",
     "text": [
      "\n"
     ]
    },
    {
     "name": "stdout",
     "output_type": "stream",
     "text": [
      "Epoch 3, Eval loss: 0.06842724978923798\n"
     ]
    },
    {
     "name": "stderr",
     "output_type": "stream",
     "text": [
      "100%|██████████| 7291/7291 [08:42<00:00, 13.95it/s]\n"
     ]
    },
    {
     "name": "stdout",
     "output_type": "stream",
     "text": [
      "Layer 0 Activations Diff Norm: 3.0424381129197794e-24\n",
      "Layer 1 Activations Diff Norm: 0.0\n",
      "Layer 2 Activations Diff Norm: 0.0\n",
      "Layer 3 Activations Diff Norm: 0.0\n",
      "Layer 4 Activations Diff Norm: 0.0\n",
      "Layer 5 Activations Diff Norm: 0.0\n"
     ]
    },
    {
     "name": "stderr",
     "output_type": "stream",
     "text": [
      "100%|██████████| 6/6 [02:10<00:00, 21.72s/it]"
     ]
    },
    {
     "name": "stdout",
     "output_type": "stream",
     "text": [
      "Layer 0, Weights Diff Norm: 2.0665169358835556e-05\n",
      "Layer 1, Weights Diff Norm: 2.8643607947742566e-05\n",
      "Layer 2, Weights Diff Norm: 7.214830111479387e-05\n",
      "Layer 3, Weights Diff Norm: 0.0006283328402787447\n",
      "Layer 4, Weights Diff Norm: 3.197519254172221e-05\n",
      "Layer 5, Weights Diff Norm: 2.3097751140594482\n"
     ]
    },
    {
     "name": "stderr",
     "output_type": "stream",
     "text": [
      "\n"
     ]
    },
    {
     "name": "stdout",
     "output_type": "stream",
     "text": [
      "Epoch 4, Eval loss: 0.06331782042980194\n"
     ]
    },
    {
     "name": "stderr",
     "output_type": "stream",
     "text": [
      "100%|██████████| 7291/7291 [08:52<00:00, 13.70it/s]\n"
     ]
    },
    {
     "name": "stdout",
     "output_type": "stream",
     "text": [
      "Layer 0 Activations Diff Norm: 0.0\n",
      "Layer 1 Activations Diff Norm: 0.0\n",
      "Layer 2 Activations Diff Norm: 0.0\n",
      "Layer 3 Activations Diff Norm: 0.0\n",
      "Layer 4 Activations Diff Norm: 0.0\n",
      "Layer 5 Activations Diff Norm: 0.0\n"
     ]
    },
    {
     "name": "stderr",
     "output_type": "stream",
     "text": [
      "100%|██████████| 6/6 [02:09<00:00, 21.62s/it]"
     ]
    },
    {
     "name": "stdout",
     "output_type": "stream",
     "text": [
      "Layer 0, Weights Diff Norm: 1.767960020515602e-05\n",
      "Layer 1, Weights Diff Norm: 2.6364026780356653e-05\n",
      "Layer 2, Weights Diff Norm: 6.396291428245604e-05\n",
      "Layer 3, Weights Diff Norm: 0.0008665069472044706\n",
      "Layer 4, Weights Diff Norm: 2.1604104404104874e-05\n",
      "Layer 5, Weights Diff Norm: 0.4806345999240875\n"
     ]
    },
    {
     "name": "stderr",
     "output_type": "stream",
     "text": [
      "\n"
     ]
    },
    {
     "name": "stdout",
     "output_type": "stream",
     "text": [
      "Epoch 5, Eval loss: 0.06259052455425262\n"
     ]
    },
    {
     "name": "stderr",
     "output_type": "stream",
     "text": [
      "100%|██████████| 7291/7291 [08:56<00:00, 13.59it/s]\n"
     ]
    },
    {
     "name": "stdout",
     "output_type": "stream",
     "text": [
      "Layer 0 Activations Diff Norm: 0.0\n",
      "Layer 1 Activations Diff Norm: 0.0\n",
      "Layer 2 Activations Diff Norm: 0.0\n",
      "Layer 3 Activations Diff Norm: 0.0\n",
      "Layer 4 Activations Diff Norm: 0.0\n",
      "Layer 5 Activations Diff Norm: 0.0\n"
     ]
    },
    {
     "name": "stderr",
     "output_type": "stream",
     "text": [
      "100%|██████████| 6/6 [02:09<00:00, 21.63s/it]"
     ]
    },
    {
     "name": "stdout",
     "output_type": "stream",
     "text": [
      "Layer 0, Weights Diff Norm: 1.4770761481486261e-05\n",
      "Layer 1, Weights Diff Norm: 2.550770113884937e-05\n",
      "Layer 2, Weights Diff Norm: 6.269845471251756e-05\n",
      "Layer 3, Weights Diff Norm: 0.0006335765938274562\n",
      "Layer 4, Weights Diff Norm: 2.050176408374682e-05\n",
      "Layer 5, Weights Diff Norm: 0.24850249290466309\n"
     ]
    },
    {
     "name": "stderr",
     "output_type": "stream",
     "text": [
      "\n"
     ]
    },
    {
     "name": "stdout",
     "output_type": "stream",
     "text": [
      "Epoch 6, Eval loss: 0.06255244463682175\n"
     ]
    },
    {
     "name": "stderr",
     "output_type": "stream",
     "text": [
      "100%|██████████| 7291/7291 [08:55<00:00, 13.61it/s]\n"
     ]
    },
    {
     "name": "stdout",
     "output_type": "stream",
     "text": [
      "Layer 0 Activations Diff Norm: 0.0\n",
      "Layer 1 Activations Diff Norm: 0.0\n",
      "Layer 2 Activations Diff Norm: 0.0\n",
      "Layer 3 Activations Diff Norm: 0.0\n",
      "Layer 4 Activations Diff Norm: 0.0\n",
      "Layer 5 Activations Diff Norm: 0.0\n"
     ]
    },
    {
     "name": "stderr",
     "output_type": "stream",
     "text": [
      "100%|██████████| 6/6 [02:09<00:00, 21.51s/it]"
     ]
    },
    {
     "name": "stdout",
     "output_type": "stream",
     "text": [
      "Layer 0, Weights Diff Norm: 1.3451830454869196e-05\n",
      "Layer 1, Weights Diff Norm: 2.2052401618566364e-05\n",
      "Layer 2, Weights Diff Norm: 6.516986468341202e-05\n",
      "Layer 3, Weights Diff Norm: 0.0005304958904162049\n",
      "Layer 4, Weights Diff Norm: 1.6077656255220063e-05\n",
      "Layer 5, Weights Diff Norm: 0.12255990505218506\n"
     ]
    },
    {
     "name": "stderr",
     "output_type": "stream",
     "text": [
      "\n"
     ]
    },
    {
     "name": "stdout",
     "output_type": "stream",
     "text": [
      "Epoch 7, Eval loss: 0.06254546344280243\n"
     ]
    },
    {
     "name": "stderr",
     "output_type": "stream",
     "text": [
      "100%|██████████| 7291/7291 [08:51<00:00, 13.72it/s]\n"
     ]
    },
    {
     "name": "stdout",
     "output_type": "stream",
     "text": [
      "Layer 0 Activations Diff Norm: 0.0\n",
      "Layer 1 Activations Diff Norm: 0.0\n",
      "Layer 2 Activations Diff Norm: 0.0\n",
      "Layer 3 Activations Diff Norm: 0.0\n",
      "Layer 4 Activations Diff Norm: 0.0\n",
      "Layer 5 Activations Diff Norm: 0.0\n"
     ]
    },
    {
     "name": "stderr",
     "output_type": "stream",
     "text": [
      "100%|██████████| 6/6 [02:09<00:00, 21.54s/it]"
     ]
    },
    {
     "name": "stdout",
     "output_type": "stream",
     "text": [
      "Layer 0, Weights Diff Norm: 1.1419416296121199e-05\n",
      "Layer 1, Weights Diff Norm: 2.1679421479348093e-05\n",
      "Layer 2, Weights Diff Norm: 4.738929055747576e-05\n",
      "Layer 3, Weights Diff Norm: 0.0004967442946508527\n",
      "Layer 4, Weights Diff Norm: 1.8424283553031273e-05\n",
      "Layer 5, Weights Diff Norm: 0.0794801190495491\n"
     ]
    },
    {
     "name": "stderr",
     "output_type": "stream",
     "text": [
      "\n"
     ]
    },
    {
     "name": "stdout",
     "output_type": "stream",
     "text": [
      "Epoch 8, Eval loss: 0.06254372000694275\n"
     ]
    },
    {
     "name": "stderr",
     "output_type": "stream",
     "text": [
      "100%|██████████| 7291/7291 [08:43<00:00, 13.92it/s]\n"
     ]
    },
    {
     "name": "stdout",
     "output_type": "stream",
     "text": [
      "Layer 0 Activations Diff Norm: 0.0\n",
      "Layer 1 Activations Diff Norm: 0.0\n",
      "Layer 2 Activations Diff Norm: 0.0\n",
      "Layer 3 Activations Diff Norm: 0.0\n",
      "Layer 4 Activations Diff Norm: 0.0\n",
      "Layer 5 Activations Diff Norm: 0.0\n"
     ]
    },
    {
     "name": "stderr",
     "output_type": "stream",
     "text": [
      "100%|██████████| 6/6 [02:08<00:00, 21.49s/it]"
     ]
    },
    {
     "name": "stdout",
     "output_type": "stream",
     "text": [
      "Layer 0, Weights Diff Norm: 1.1817065569630358e-05\n",
      "Layer 1, Weights Diff Norm: 2.2111114958534017e-05\n",
      "Layer 2, Weights Diff Norm: 6.623224908253178e-05\n",
      "Layer 3, Weights Diff Norm: 0.0004931375733576715\n",
      "Layer 4, Weights Diff Norm: 1.66773097589612e-05\n",
      "Layer 5, Weights Diff Norm: 0.008183520287275314\n"
     ]
    },
    {
     "name": "stderr",
     "output_type": "stream",
     "text": [
      "\n"
     ]
    },
    {
     "name": "stdout",
     "output_type": "stream",
     "text": [
      "Epoch 9, Eval loss: 0.06254217028617859\n"
     ]
    },
    {
     "name": "stderr",
     "output_type": "stream",
     "text": [
      "100%|██████████| 7291/7291 [08:18<00:00, 14.62it/s]\n"
     ]
    },
    {
     "name": "stdout",
     "output_type": "stream",
     "text": [
      "Layer 0 Activations Diff Norm: 0.0\n",
      "Layer 1 Activations Diff Norm: 0.0\n",
      "Layer 2 Activations Diff Norm: 0.0\n",
      "Layer 3 Activations Diff Norm: 0.0\n",
      "Layer 4 Activations Diff Norm: 0.0\n",
      "Layer 5 Activations Diff Norm: 0.0\n"
     ]
    },
    {
     "name": "stderr",
     "output_type": "stream",
     "text": [
      "100%|██████████| 6/6 [02:09<00:00, 21.53s/it]"
     ]
    },
    {
     "name": "stdout",
     "output_type": "stream",
     "text": [
      "Layer 0, Weights Diff Norm: 1.0128524081665091e-05\n",
      "Layer 1, Weights Diff Norm: 1.8392011043033563e-05\n",
      "Layer 2, Weights Diff Norm: 5.827877248520963e-05\n",
      "Layer 3, Weights Diff Norm: 0.00063039775704965\n",
      "Layer 4, Weights Diff Norm: 1.817988777474966e-05\n",
      "Layer 5, Weights Diff Norm: 0.14669473469257355\n"
     ]
    },
    {
     "name": "stderr",
     "output_type": "stream",
     "text": [
      "\n"
     ]
    },
    {
     "name": "stdout",
     "output_type": "stream",
     "text": [
      "Epoch 10, Eval loss: 0.062468271702528\n"
     ]
    },
    {
     "name": "stderr",
     "output_type": "stream",
     "text": [
      "100%|██████████| 7291/7291 [08:24<00:00, 14.44it/s]"
     ]
    },
    {
     "name": "stdout",
     "output_type": "stream",
     "text": [
      "Layer 0 Activations Diff Norm: 0.0\n",
      "Layer 1 Activations Diff Norm: 0.0\n",
      "Layer 2 Activations Diff Norm: 0.0\n",
      "Layer 3 Activations Diff Norm: 0.0\n",
      "Layer 4 Activations Diff Norm: 0.0\n",
      "Layer 5 Activations Diff Norm: 0.0\n",
      "CPU times: user 5h 12min 4s, sys: 29.4 s, total: 5h 12min 33s\n",
      "Wall time: 1h 48min 36s\n"
     ]
    },
    {
     "name": "stderr",
     "output_type": "stream",
     "text": [
      "\n"
     ]
    }
   ],
   "source": [
    "%%time\n",
    "\n",
    "relu = nn.ReLU()\n",
    "line_search_c = pow(10,-4)\n",
    "# backtracking multiplier\n",
    "line_search_tau = 0.5\n",
    "alphas_w = []\n",
    "alphas_z = []\n",
    "loss_hist = []\n",
    "\n",
    "# registering hooks to cache activations\n",
    "model = AE().to(device)\n",
    "\n",
    "WEIGHTS = [\n",
    "    model.encoder[0].weight.detach().cpu(),\n",
    "    model.encoder[2].weight.detach().cpu(),\n",
    "    model.encoder[4].weight.detach().cpu(),\n",
    "    model.decoder[0].weight.detach().cpu(),\n",
    "    model.decoder[2].weight.detach().cpu(),\n",
    "    model.decoder[4].weight.detach().cpu(),\n",
    "]\n",
    "\n",
    "# sum of all output shapes\n",
    "H = 0\n",
    "h_k = [0]\n",
    "for W in WEIGHTS:\n",
    "    H += W.shape[0]\n",
    "    h_k.append(W.shape[0] + h_k[-1])\n",
    "h_k = h_k[1:]\n",
    "\n",
    "CACHE_OUTPUTS = {}\n",
    "CACHE_RELUS = {}\n",
    "\n",
    "def cache_relu_hook(idx, module, input, output):\n",
    "    CACHE_RELUS[idx] = output.detach().cpu()\n",
    "\n",
    "i = 0 \n",
    "for m in model.modules():\n",
    "    if isinstance(m, nn.ReLU):\n",
    "        handle = m.register_forward_hook(partial(cache_relu_hook, i))\n",
    "        i += 1\n",
    "        \n",
    "# caching activations\n",
    "with torch.no_grad():\n",
    "    for x, _ in train_loader:\n",
    "        x = x.to(device)\n",
    "        _ = model(x)\n",
    "        x = x.cpu()\n",
    "        \n",
    "        \n",
    "with torch.no_grad():\n",
    "    for epoch in range(10):\n",
    "        \n",
    "        # W-Step\n",
    "        WEIGHTS_COPY = copy.deepcopy(WEIGHTS)\n",
    "\n",
    "        for layer_idx in tqdm(range(len(CACHE_RELUS))):\n",
    "            in_dim = WEIGHTS[layer_idx].shape[1]\n",
    "            out_dim = WEIGHTS[layer_idx].shape[0]\n",
    "            n_samples = CACHE_RELUS[layer_idx].shape[0]\n",
    "\n",
    "            if layer_idx == 0:\n",
    "                residuals = CACHE_RELUS[layer_idx] - relu(x @ WEIGHTS[layer_idx].T)\n",
    "            elif layer_idx == len(CACHE_RELUS) - 1:\n",
    "                # reconstruction task\n",
    "                residuals = x - relu(CACHE_RELUS[layer_idx-1] @ WEIGHTS[layer_idx].T)\n",
    "            else:\n",
    "                residuals = CACHE_RELUS[layer_idx] - relu(CACHE_RELUS[layer_idx-1] @ WEIGHTS[layer_idx].T)\n",
    "            # print('residuals:', residuals.shape)\n",
    "\n",
    "            for h in range(out_dim):\n",
    "                # Building Jacobian (for each layer and output dim)\n",
    "                J = torch.zeros((n_samples, in_dim))\n",
    "                w = WEIGHTS[layer_idx][h]\n",
    "\n",
    "                if layer_idx == 0:\n",
    "                    for n in range(n_samples):\n",
    "                        if CACHE_RELUS[layer_idx][n][h] > 0:\n",
    "                            J[n, :] = - x[n]\n",
    "                else:\n",
    "                    for n in range(n_samples):\n",
    "                        if CACHE_RELUS[layer_idx][n][h] > 0:\n",
    "                            J[n, :] = - CACHE_RELUS[layer_idx-1][n]\n",
    "\n",
    "                p = torch.linalg.lstsq(J.T@J, - J.T @ residuals[:, h])[0]\n",
    "                # print('shape of p:', p.shape, 'shape of w:', w.shape)\n",
    "                # p.T @ grad (.T doesn't matter, numpy performs inner product)\n",
    "                descent_inner_prod = (J.T @ residuals[:, h]) @ p\n",
    "                try:\n",
    "                    assert descent_inner_prod <= 0\n",
    "                except:\n",
    "                    pass\n",
    "                    # print(f'layer {layer_idx+1} dim {h} descent(should be <= 0)', descent_inner_prod)\n",
    "\n",
    "                # Line Search with Backtracking\n",
    "                alpha = 1.0\n",
    "                fw = (residuals[:,h]**2).sum() / 2\n",
    "                # First Update\n",
    "                w += alpha*p\n",
    "                if layer_idx == 0:\n",
    "                    residuals_new = CACHE_RELUS[layer_idx][:,h] - relu(torch.einsum('bq,q->b', x, w))\n",
    "                elif layer_idx == len(CACHE_RELUS) - 1:\n",
    "                    residuals_new = x[:,h] - relu(torch.einsum('bq,q->b', CACHE_RELUS[layer_idx-1], w))\n",
    "                else:\n",
    "                    residuals_new = CACHE_RELUS[layer_idx][:,h] - relu(torch.einsum('bq,q->b', CACHE_RELUS[layer_idx-1], w))\n",
    "                fw_new = (residuals_new**2).sum() / 2\n",
    "                rhs = alpha * line_search_c * descent_inner_prod\n",
    "\n",
    "                max_iter, counter = 40, 0\n",
    "                # Armijo Condition\n",
    "                while fw_new - fw > rhs and counter < max_iter:\n",
    "                    alpha *= line_search_tau\n",
    "                    # Update\n",
    "                    w = WEIGHTS_COPY[layer_idx][h] + alpha * p\n",
    "                    if layer_idx == 0:\n",
    "                        residuals_new = CACHE_RELUS[layer_idx][:,h] - relu(torch.einsum('bq,q->b', x, w))\n",
    "                    else:\n",
    "                        residuals_new = CACHE_RELUS[layer_idx][:,h] - relu(torch.einsum('bq,q->b', CACHE_RELUS[layer_idx-1], w))\n",
    "                    fw_new = (residuals_new**2).sum() / 2\n",
    "                    rhs = alpha * line_search_c * descent_inner_prod\n",
    "\n",
    "                    # print(\"Line search armijo: obj func old: %f new: %f diff: %.16f rhs: %.16f, alpha: %f\" % (fw, fw_new, fw_new - fw, rhs, alpha))\n",
    "                    counter += 1\n",
    "                # alphas_w.append(alpha)\n",
    "\n",
    "        for layer_idx in range(len(CACHE_RELUS)):\n",
    "            print(f'Layer {layer_idx}, '\n",
    "                  f'Weights Diff Norm: {torch.linalg.norm(WEIGHTS[layer_idx]-WEIGHTS_COPY[layer_idx]) / torch.linalg.norm(WEIGHTS_COPY[layer_idx])}')\n",
    "        model.encoder[0].weight.data = WEIGHTS[0]\n",
    "        model.encoder[2].weight.data = WEIGHTS[1]\n",
    "        model.encoder[4].weight.data = WEIGHTS[2]\n",
    "        model.decoder[0].weight.data = WEIGHTS[3]\n",
    "        model.decoder[2].weight.data = WEIGHTS[4]\n",
    "        model.decoder[4].weight.data = WEIGHTS[5]\n",
    "        model = model.to(device)\n",
    "        \n",
    "        # Removing Hooks\n",
    "        for m in model.modules():\n",
    "            if isinstance(m, nn.ReLU):\n",
    "                m._forward_hooks = OrderedDict()\n",
    "        # Loss on eval dataset\n",
    "        loss = eval_loss(model, test_loader, loss_function, device=device)\n",
    "        loss_hist.append(loss)\n",
    "        print(f'Epoch {epoch+1}, Eval loss: {loss}')\n",
    "        # Putting hooks back\n",
    "        i = 0 \n",
    "        for m in model.modules():\n",
    "            if isinstance(m, nn.ReLU):\n",
    "                handle = m.register_forward_hook(partial(cache_relu_hook, i))\n",
    "                i += 1\n",
    "        \n",
    "        # recalculating activations after weights update\n",
    "        for x, _ in train_loader:\n",
    "            x = x.to(device)\n",
    "            _ = model(x)\n",
    "            x = x.cpu()\n",
    "\n",
    "        # Z-Step\n",
    "        CACHE_RELUS_COPY = copy.deepcopy(CACHE_RELUS)\n",
    "            \n",
    "        for n_sample in tqdm(range(len(x))):\n",
    "\n",
    "            # Calculating Residuals\n",
    "            residuals = torch.zeros(H)\n",
    "            start = 0\n",
    "            for layer_idx in range(len(h_k)):\n",
    "                if layer_idx == 0:\n",
    "                    residuals[start:h_k[layer_idx]] = CACHE_RELUS[layer_idx][n_sample] - relu(torch.einsum('q,hq->h', x[n_sample], WEIGHTS[layer_idx]))\n",
    "                elif layer_idx == len(CACHE_RELUS) - 1:\n",
    "                    residuals[start:h_k[layer_idx]] = x[n_sample] - relu(torch.einsum('q,hq->h', CACHE_RELUS[layer_idx-1][n_sample], WEIGHTS[layer_idx]))\n",
    "                else:\n",
    "                    residuals[start:h_k[layer_idx]] = CACHE_RELUS[layer_idx][n_sample] - relu(torch.einsum('q,hq->h', CACHE_RELUS[layer_idx-1][n_sample], WEIGHTS[layer_idx]))\n",
    "                start = h_k[layer_idx]\n",
    "            # Quadratic Penalty\n",
    "            mu_mult = torch.ones_like(residuals)\n",
    "            mu_mult[:h_k[-2]] = math.sqrt(mu)\n",
    "            residuals = mu_mult * residuals\n",
    "\n",
    "            # Building Jacobian for each sample in dataset\n",
    "            J = torch.zeros((H, H))\n",
    "            for h in range(H):\n",
    "                if h < h_k[-2]: J[h, h] = 1\n",
    "                for layer_idx in range(len(h_k)):\n",
    "                    if h <= h_k[layer_idx]: break\n",
    "                if layer_idx == 0: continue\n",
    "\n",
    "                n_feature = h-h_k[layer_idx-1]-1\n",
    "                assert n_feature >= 0 and n_feature < WEIGHTS[layer_idx].shape[0]\n",
    "\n",
    "                if layer_idx == 1:\n",
    "                    start, finish = 0, h_k[layer_idx-1]\n",
    "                elif layer_idx > 1:\n",
    "                    start, finish = h_k[layer_idx-2], h_k[layer_idx-1]\n",
    "                # print(CACHE_RELUS[layer_idx][n_sample][n_feature])\n",
    "                if CACHE_RELUS[layer_idx][n_sample][n_feature] > 0:\n",
    "                    # print(start, finish, n_feature, WEIGHTS[layer_idx][n_feature].shape)\n",
    "                    J[h, start:finish] = - WEIGHTS[layer_idx][n_feature]\n",
    "                    # Quadratic Penalty\n",
    "                    if layer_idx != len(CACHE_RELUS)-1:\n",
    "                        J[h, start:finish] *= mu\n",
    "\n",
    "            # Descent Direction\n",
    "            p = torch.linalg.lstsq(J.T@J, - J.T @ residuals)[0]\n",
    "            # print('shape of p:', p.shape, 'shape of w:', w.shape)\n",
    "            # p.T @ grad (.T doesn't matter, numpy performs inner product)\n",
    "            descent_inner_prod = (J.T @ residuals) @ p\n",
    "            try:\n",
    "                assert descent_inner_prod <= 0\n",
    "            except:\n",
    "                print(f'sample {n_sample} descent direction should be <= 0', descent_inner_prod)\n",
    "\n",
    "            # Line Search with Backtracking\n",
    "            alpha = 1.0\n",
    "            fw = residuals.sum() / 2\n",
    "            # update\n",
    "            for layer_idx in range(len(CACHE_RELUS)):\n",
    "                if layer_idx == 0:\n",
    "                    start, finish = 0, h_k[layer_idx]\n",
    "                else:\n",
    "                    start, finish = h_k[layer_idx-1], h_k[layer_idx]\n",
    "\n",
    "                CACHE_RELUS[layer_idx][n_sample] = CACHE_RELUS_COPY[layer_idx][n_sample] + alpha * p[start:finish]\n",
    "                \n",
    "            residuals_new = torch.zeros(H)\n",
    "            start = 0\n",
    "            for layer_idx in range(len(h_k)):\n",
    "                if layer_idx == 0:\n",
    "                    residuals_new[start:h_k[layer_idx]] = CACHE_RELUS[layer_idx][n_sample] - relu(torch.einsum('q,hq->h', x[n_sample], WEIGHTS[layer_idx]))\n",
    "                elif layer_idx == len(CACHE_RELUS) - 1:\n",
    "                    residuals_new[start:h_k[layer_idx]] = x[n_sample] - relu(torch.einsum('q,hq->h', CACHE_RELUS[layer_idx-1][n_sample], WEIGHTS[layer_idx]))\n",
    "                else:\n",
    "                    residuals_new[start:h_k[layer_idx]] = CACHE_RELUS[layer_idx][n_sample] - relu(torch.einsum('q,hq->h', CACHE_RELUS[layer_idx-1][n_sample], WEIGHTS[layer_idx]))\n",
    "                start = h_k[layer_idx]\n",
    "            # Quadratic Penalty\n",
    "            residuals_new = mu_mult * residuals_new\n",
    "            fw_new = (residuals_new**2).sum() / 2\n",
    "            rhs = alpha * line_search_c * descent_inner_prod\n",
    "            # print('fw:', fw, fw_new, rhs)\n",
    "            \n",
    "\n",
    "            max_iter, counter = 40, 0\n",
    "            # Armijo Condition\n",
    "            while fw_new - fw > rhs and counter < max_iter:\n",
    "                # step update\n",
    "                alpha *= line_search_tau\n",
    "                \n",
    "                # relus update\n",
    "                for layer_idx in range(len(CACHE_RELUS)):\n",
    "                    if layer_idx == 0:\n",
    "                        start, finish = 0, h_k[layer_idx]\n",
    "                    else:\n",
    "                        start, finish = h_k[layer_idx-1], h_k[layer_idx]\n",
    "\n",
    "                    CACHE_RELUS[layer_idx][n_sample] = CACHE_RELUS_COPY[layer_idx][n_sample] + alpha * p[start:finish]\n",
    "                    \n",
    "                # recompute residuals\n",
    "                start = 0\n",
    "                for layer_idx in range(len(h_k)):\n",
    "                    if layer_idx == 0:\n",
    "                        residuals_new[start:h_k[layer_idx]] = CACHE_RELUS[layer_idx][n_sample] - relu(torch.einsum('q,hq->h', x[n_sample], WEIGHTS[layer_idx]))\n",
    "                    elif layer_idx == len(CACHE_RELUS) - 1:\n",
    "                        residuals_new[start:h_k[layer_idx]] = x[n_sample] - relu(torch.einsum('q,hq->h', CACHE_RELUS[layer_idx-1][n_sample], WEIGHTS[layer_idx]))\n",
    "                    else:\n",
    "                        residuals_new[start:h_k[layer_idx]] = CACHE_RELUS[layer_idx][n_sample] - relu(torch.einsum('q,hq->h', CACHE_RELUS[layer_idx-1][n_sample], WEIGHTS[layer_idx]))\n",
    "                    start = h_k[layer_idx]\n",
    "                # Quadratic Penalty\n",
    "                residuals_new = mu_mult * residuals_new\n",
    "                fw_new = (residuals_new**2).sum() / 2\n",
    "                rhs = alpha * line_search_c * descent_inner_prod\n",
    "\n",
    "                # print(\"Line search armijo: obj func old: %f new: %f diff: %.16f rhs: %.16f, alpha: %f\" % (fw, fw_new, fw_new - fw, rhs, alpha))\n",
    "                counter += 1\n",
    "        \n",
    "        for layer_idx in range(len(CACHE_RELUS)):\n",
    "            print(f'Layer {layer_idx} Activations Diff Norm: '\n",
    "                  f'{torch.linalg.norm(CACHE_RELUS[layer_idx]-CACHE_RELUS_COPY[layer_idx]) / torch.linalg.norm(CACHE_RELUS_COPY[layer_idx])}')\n",
    "            \n",
    "        mu *= 4\n",
    "\n",
    "        # print()"
   ]
  },
  {
   "cell_type": "code",
   "execution_count": 52,
   "id": "e05ac2fd-c6a2-4eea-b82f-c8e64e4a8a97",
   "metadata": {
    "tags": []
   },
   "outputs": [
    {
     "name": "stdout",
     "output_type": "stream",
     "text": [
      "Trained model reconstruction results:\n"
     ]
    },
    {
     "data": {
      "image/png": "[encoded data removed]",
      "text/plain": [
       "<Figure size 1600x400 with 64 Axes>"
      ]
     },
     "metadata": {},
     "output_type": "display_data"
    }
   ],
   "source": [
    "for x, _ in train_loader:\n",
    "    x = x[:32].to(device)\n",
    "    with torch.no_grad():\n",
    "        z = model(x)\n",
    "    \n",
    "    print('Trained model reconstruction results:')\n",
    "    plot_progress(x, z)\n",
    "    \n",
    "    break"
   ]
  },
  {
   "cell_type": "code",
   "execution_count": 54,
   "id": "afeaff35-60ac-49bd-a783-3369e9e2a411",
   "metadata": {
    "tags": []
   },
   "outputs": [
    {
     "data": {
      "image/png": "[encoded data removed]",
      "text/plain": [
       "<Figure size 640x480 with 1 Axes>"
      ]
     },
     "metadata": {},
     "output_type": "display_data"
    }
   ],
   "source": [
    "# Jacobian for Z-step\n",
    "plt.spy(J)\n",
    "plt.show()"
   ]
  },
  {
   "cell_type": "markdown",
   "id": "e997b490-d80a-4565-a553-c4f308f683b2",
   "metadata": {
    "tags": []
   },
   "source": [
    "## cpu, numpy, pool+map"
   ]
  },
  {
   "cell_type": "code",
   "execution_count": 5,
   "id": "6ca76ed7-3b93-4b96-b279-6279529847a0",
   "metadata": {},
   "outputs": [],
   "source": [
    "device = 'cpu'"
   ]
  },
  {
   "cell_type": "code",
   "execution_count": 6,
   "id": "baadf9b4-c4e3-44f0-a63a-25dfaec99b21",
   "metadata": {},
   "outputs": [],
   "source": [
    "def relu(x):\n",
    "    return np.maximum(0.0, x)\n",
    "\n",
    "def calculate_z_residuals(cache_relus, x, h_k, WEIGHTS):\n",
    "    \n",
    "    residuals = np.zeros(h_k[-1])\n",
    "    start = 0\n",
    "    for layer_idx in range(len(h_k)):\n",
    "        if layer_idx == 0:\n",
    "            residuals[start:h_k[layer_idx]] = cache_relus[start:h_k[layer_idx]] - relu(np.einsum('q,hq->h', x, WEIGHTS[layer_idx]))\n",
    "        elif layer_idx == 1:\n",
    "            residuals[start:h_k[layer_idx]] = cache_relus[start:h_k[layer_idx]] \\\n",
    "                                              - relu(np.einsum('q,hq->h', cache_relus[:h_k[layer_idx-1]], \n",
    "                                                                             WEIGHTS[layer_idx]))\n",
    "        elif layer_idx == len(h_k) - 1:\n",
    "            residuals[start:h_k[layer_idx]] = x - relu(np.einsum('q,hq->h', cache_relus[h_k[layer_idx-2]:h_k[layer_idx-1]], WEIGHTS[layer_idx]))\n",
    "        else:\n",
    "            residuals[start:h_k[layer_idx]] = cache_relus[start:h_k[layer_idx]] \\\n",
    "                                              - relu(np.einsum('q,hq->h', cache_relus[h_k[layer_idx-2]:h_k[layer_idx-1]], \n",
    "                                                                             WEIGHTS[layer_idx]))\n",
    "        start = h_k[layer_idx]\n",
    "    return residuals\n",
    "\n",
    "def z_step(n_sample, cache_relus, x, WEIGHTS, mu, h_k):\n",
    "    \n",
    "    # Calculating Residuals\n",
    "    residuals = calculate_z_residuals(cache_relus, x, h_k, WEIGHTS)\n",
    "    \n",
    "    # Quadratic Penalty\n",
    "    mu_mult = np.ones_like(residuals)\n",
    "    mu_mult[:h_k[-2]] = math.sqrt(mu)\n",
    "    residuals = mu_mult * residuals\n",
    "\n",
    "    # Building Jacobian for each sample in dataset\n",
    "    J = np.zeros((h_k[-1], h_k[-2]))\n",
    "    for h in range(h_k[-1]):\n",
    "        if h < h_k[-2]: J[h, h] = mu\n",
    "        for layer_idx in range(len(h_k)):\n",
    "            if h < h_k[layer_idx]: break\n",
    "        if layer_idx == 0: continue\n",
    "\n",
    "        n_feature = h-h_k[layer_idx-1]\n",
    "        assert n_feature >= 0 and n_feature < WEIGHTS[layer_idx].shape[0]\n",
    "\n",
    "        if layer_idx == 1:\n",
    "            start, finish = 0, h_k[layer_idx-1]\n",
    "        elif layer_idx > 1:\n",
    "            start, finish = h_k[layer_idx-2], h_k[layer_idx-1]\n",
    "        if cache_relus[h] > 0:\n",
    "            J[h, start:finish] = - WEIGHTS[layer_idx][n_feature]\n",
    "            # Quadratic Penalty\n",
    "            if layer_idx != len(h_k)-1:\n",
    "                J[h, start:finish] *= mu\n",
    "\n",
    "    # Descent Direction\n",
    "    p = np.linalg.lstsq(J.T@J, - J.T @ residuals, rcond=None)[0]\n",
    "    # p.T @ grad (.T doesn't matter, numpy performs inner product)\n",
    "    descent_inner_prod = (J.T @ residuals) @ p\n",
    "    try:\n",
    "        assert descent_inner_prod <= 0\n",
    "    except:\n",
    "        print(f'sample {n_sample} descent direction should be <= 0', descent_inner_prod)\n",
    "\n",
    "    # Line Search with Backtracking\n",
    "    alpha = 1.0\n",
    "    fw = residuals.sum() / 2\n",
    "    # recompute residuals with relus update\n",
    "    p_ = np.zeros(h_k[-1])\n",
    "    p_[:h_k[-2]] = p\n",
    "    residuals_new = calculate_z_residuals(cache_relus + alpha * p_, x, h_k, WEIGHTS)\n",
    "\n",
    "    # Quadratic Penalty\n",
    "    residuals_new = mu_mult * residuals_new\n",
    "    fw_new = (residuals_new**2).sum() / 2\n",
    "    rhs = alpha * line_search_c * descent_inner_prod\n",
    "\n",
    "    max_iter, counter = 40, 0\n",
    "    # Armijo Condition\n",
    "    while fw_new - fw > rhs and counter < max_iter:\n",
    "        # step update\n",
    "        alpha *= line_search_tau\n",
    "\n",
    "        # recompute residuals with new relus update\n",
    "        residuals_new = calculate_z_residuals(cache_relus + alpha * p_, x, h_k, WEIGHTS)\n",
    "\n",
    "        # Quadratic Penalty\n",
    "        residuals_new = mu_mult * residuals_new\n",
    "        fw_new = (residuals_new**2).sum() / 2\n",
    "        rhs = alpha * line_search_c * descent_inner_prod\n",
    "\n",
    "        # print(\"Line search armijo: obj func old: %f new: %f diff: %.16f rhs: %.16f, alpha: %f\" % (fw, fw_new, fw_new - fw, rhs, alpha))\n",
    "        counter += 1\n",
    "        \n",
    "    return (n_sample, cache_relus + alpha * p_)"
   ]
  },
  {
   "cell_type": "code",
   "execution_count": 7,
   "id": "b51cc129-be4b-412b-8430-a440e69ef36c",
   "metadata": {},
   "outputs": [],
   "source": [
    "def relu(x):\n",
    "    return np.maximum(0.0, x)\n",
    "\n",
    "def calculate_w_residuals(layer_idx, h, w_h, x, CACHE_RELUS):\n",
    "    \n",
    "    if layer_idx == 0:\n",
    "        residuals = CACHE_RELUS[layer_idx][:,h] - relu(np.einsum('bq,q->b', x, w_h))\n",
    "    elif layer_idx == len(CACHE_RELUS) - 1:\n",
    "        residuals = x[:,h] - relu(np.einsum('bq,q->b', CACHE_RELUS[layer_idx-1], w_h))\n",
    "    else:\n",
    "        residuals = CACHE_RELUS[layer_idx][:,h] - relu(np.einsum('bq,q->b', CACHE_RELUS[layer_idx-1], w_h))\n",
    "        \n",
    "    return residuals\n",
    "\n",
    "def w_step(layer_idx, h, w_h, x, CACHE_RELUS, n_samples):\n",
    "    \n",
    "    residuals = calculate_w_residuals(layer_idx, h, w_h, x, CACHE_RELUS)\n",
    "    \n",
    "    # Building Jacobian (for each layer and output dim)\n",
    "    J = np.zeros((n_samples, len(w_h)))\n",
    "\n",
    "    if layer_idx == 0:\n",
    "        for n in range(n_samples):\n",
    "            if CACHE_RELUS[layer_idx][n][h] > 0:\n",
    "                J[n, :] = - x[n]\n",
    "    else:\n",
    "        for n in range(n_samples):\n",
    "            if CACHE_RELUS[layer_idx][n][h] > 0:\n",
    "                J[n, :] = - CACHE_RELUS[layer_idx-1][n]\n",
    "\n",
    "    p = np.linalg.lstsq(J.T@J, - J.T @ residuals, rcond=None)[0]\n",
    "    # p.T @ grad (.T doesn't matter, numpy performs inner product)\n",
    "    descent_inner_prod = (J.T @ residuals) @ p\n",
    "    try:\n",
    "        assert descent_inner_prod <= 0\n",
    "    except:\n",
    "        # pass\n",
    "        print(f'layer {layer_idx+1} dim {h} descent(should be <= 0)', descent_inner_prod)\n",
    "\n",
    "    # Line Search with Backtracking\n",
    "    alpha = 1.0\n",
    "    fw = (residuals**2).sum() / 2\n",
    "    # First Update\n",
    "    residuals_new = calculate_w_residuals(layer_idx, h, w_h + alpha*p, x, CACHE_RELUS)\n",
    "    fw_new = (residuals_new**2).sum() / 2\n",
    "    rhs = alpha * line_search_c * descent_inner_prod\n",
    "\n",
    "    max_iter, counter = 40, 0\n",
    "    # Armijo Condition\n",
    "    while fw_new - fw > rhs and counter < max_iter:\n",
    "        alpha *= line_search_tau\n",
    "        # Update\n",
    "        residuals_new = calculate_w_residuals(layer_idx, h, w_h + alpha*p, x, CACHE_RELUS)\n",
    "        fw_new = (residuals_new**2).sum() / 2\n",
    "        rhs = alpha * line_search_c * descent_inner_prod\n",
    "\n",
    "        # print(\"Line search armijo: obj func old: %f new: %f diff: %.16f rhs: %.16f, alpha: %f\" % (fw, fw_new, fw_new - fw, rhs, alpha))\n",
    "        counter += 1\n",
    "        \n",
    "    return (layer_idx, h, w_h + alpha*p)"
   ]
  },
  {
   "cell_type": "code",
   "execution_count": 8,
   "id": "0dc14003-fcbd-4733-8db5-1a10c2253272",
   "metadata": {
    "tags": []
   },
   "outputs": [
    {
     "name": "stdout",
     "output_type": "stream",
     "text": [
      "n samples: 7291\n"
     ]
    },
    {
     "name": "stderr",
     "output_type": "stream",
     "text": [
      "100%|██████████| 6/6 [00:01<00:00,  4.46it/s]"
     ]
    },
    {
     "name": "stdout",
     "output_type": "stream",
     "text": [
      "Layer 0, Weights Diff Norm: 0.0\n",
      "Layer 1, Weights Diff Norm: 0.0\n",
      "Layer 2, Weights Diff Norm: 0.0\n",
      "Layer 3, Weights Diff Norm: 0.0\n",
      "Layer 4, Weights Diff Norm: 0.0\n",
      "Layer 5, Weights Diff Norm: 0.0\n"
     ]
    },
    {
     "name": "stderr",
     "output_type": "stream",
     "text": [
      "\n"
     ]
    },
    {
     "name": "stdout",
     "output_type": "stream",
     "text": [
      "Epoch 1, Eval loss: 0.1618337482213974\n",
      "Layer 0 Activations Diff Norm: 0.036658432334661484\n",
      "Layer 1 Activations Diff Norm: 0.5135264992713928\n",
      "Layer 2 Activations Diff Norm: 4.624906539916992\n",
      "Layer 3 Activations Diff Norm: 10.30930233001709\n",
      "Layer 4 Activations Diff Norm: 26.338945388793945\n",
      "Layer 5 Activations Diff Norm: 0.0\n",
      "CPU times: user 2.33 s, sys: 3.26 s, total: 5.59 s\n",
      "Wall time: 13min 29s\n"
     ]
    }
   ],
   "source": [
    "%%time\n",
    "\n",
    "def relu(x):\n",
    "    return np.maximum(0.0, x)\n",
    "\n",
    "line_search_c = pow(10,-4)\n",
    "# backtracking multiplier\n",
    "line_search_tau = 0.5\n",
    "\n",
    "# Quadratic Penalty multiplier \n",
    "mu = 1.0\n",
    "\n",
    "loss_function = torch.nn.MSELoss()\n",
    "loss_hist = []\n",
    "\n",
    "# registering hooks to cache activations\n",
    "model = AE().to(device)\n",
    "\n",
    "WEIGHTS = [\n",
    "    model.encoder[0].weight.detach().cpu().numpy(),\n",
    "    model.encoder[2].weight.detach().cpu().numpy(),\n",
    "    model.encoder[4].weight.detach().cpu().numpy(),\n",
    "    model.decoder[0].weight.detach().cpu().numpy(),\n",
    "    model.decoder[2].weight.detach().cpu().numpy(),\n",
    "    model.decoder[4].weight.detach().cpu().numpy(),\n",
    "]\n",
    "\n",
    "# sum of all output shapes\n",
    "H = 0\n",
    "h_k = [0]\n",
    "for W in WEIGHTS:\n",
    "    H += W.shape[0]\n",
    "    h_k.append(W.shape[0] + h_k[-1])\n",
    "h_k = h_k[1:]\n",
    "\n",
    "CACHE_RELUS = {}\n",
    "\n",
    "def cache_relu_hook(idx, module, input, output):\n",
    "    CACHE_RELUS[idx] = output.detach().cpu().numpy()\n",
    "\n",
    "i = 0 \n",
    "for m in model.modules():\n",
    "    if isinstance(m, nn.ReLU):\n",
    "        handle = m.register_forward_hook(partial(cache_relu_hook, i))\n",
    "        i += 1\n",
    "        \n",
    "# caching activations\n",
    "with torch.no_grad():\n",
    "    for x, _ in train_loader:\n",
    "        x = x.to(device)\n",
    "        _ = model(x)\n",
    "        x = x.detach().cpu().numpy()\n",
    "        \n",
    "# Removing Hooks\n",
    "for m in model.modules():\n",
    "    if isinstance(m, nn.ReLU):\n",
    "        m._forward_hooks = OrderedDict()\n",
    "        \n",
    "def _get_cached_relus(n_sample):\n",
    "    cache_relus = np.zeros(H)\n",
    "    start = 0\n",
    "    for layer_idx in range(len(h_k)):\n",
    "        cache_relus[start:h_k[layer_idx]] = CACHE_RELUS[layer_idx][n_sample]\n",
    "        start = h_k[layer_idx]\n",
    "    return cache_relus\n",
    "\n",
    "n_samples = x.shape[0]\n",
    "print('n samples:', n_samples)\n",
    "        \n",
    "with torch.no_grad():\n",
    "    for epoch in range(10):\n",
    "        \n",
    "        # W-Step\n",
    "        WEIGHTS_COPY = copy.deepcopy(WEIGHTS)\n",
    "\n",
    "        for layer_idx in tqdm(range(len(h_k))):\n",
    "\n",
    "            # for h in range(out_dim):\n",
    "            for h in range(5):\n",
    "                w_h = WEIGHTS[layer_idx][h]\n",
    "                w_step(layer_idx, h, w_h, x, CACHE_RELUS, n_samples)\n",
    "                \n",
    "        # with mp.Pool(processes=4) as pool:\n",
    "        #     for layer_idx, h, new_w = pool.starmap(partial(w_step, n_samples=n_samples),\n",
    "        #                                            ((layer_idx, h, WEIGHTS[layer_idx][h], x, CACHE_RELUS)\n",
    "        #                                                for (layer_idx, h) in zip(range(len(h_k)), range()))\n",
    "                \n",
    "            # process for each unit in each layer\n",
    "#             for h in range(5):\n",
    "#                 w_h = WEIGHTS[layer_idx][h]\n",
    "#                 p = mp.Process(target=partial(w_step, n_samples=n_samples),\n",
    "#                                args=(layer_idx, h, in_dim, out_dim, w_h, x, CACHE_RELUS, queue))\n",
    "#                 p.start()\n",
    "#                 processes.append(p)\n",
    "\n",
    "#         for p in processes:\n",
    "#             p.join()\n",
    "                \n",
    "        # updating  WEIGHTS\n",
    "        # for _ in tqdm(range(queue.qsize())):\n",
    "        #     layer_idx, h, new_weights = queue.get()\n",
    "        #     WEIGHTS[layer_idx][h] = new_weights\n",
    "\n",
    "        # Checking Norm Difference\n",
    "        for layer_idx in range(len(h_k)):\n",
    "            print(f'Layer {layer_idx}, '\n",
    "                  f'Weights Diff Norm: {np.linalg.norm(WEIGHTS[layer_idx]-WEIGHTS_COPY[layer_idx]) / np.linalg.norm(WEIGHTS_COPY[layer_idx])}')\n",
    "        \n",
    "        # Loading weights back to model to compute eval loss\n",
    "        model.encoder[0].weight.data = torch.tensor(WEIGHTS[0])\n",
    "        model.encoder[2].weight.data = torch.tensor(WEIGHTS[1])\n",
    "        model.encoder[4].weight.data = torch.tensor(WEIGHTS[2])\n",
    "        model.decoder[0].weight.data = torch.tensor(WEIGHTS[3])\n",
    "        model.decoder[2].weight.data = torch.tensor(WEIGHTS[4])\n",
    "        model.decoder[4].weight.data = torch.tensor(WEIGHTS[5])\n",
    "        model = model.to(device)\n",
    "        \n",
    "        # Loss on eval dataset\n",
    "        loss = eval_loss(model, test_loader, loss_function, device=device)\n",
    "        loss_hist.append(loss)\n",
    "        print(f'Epoch {epoch+1}, Eval loss: {loss}')\n",
    "        \n",
    "        # # recalculating activations after weights update\n",
    "        # for x, _ in train_loader:\n",
    "        #     x = x.to(device)\n",
    "        #     _ = model(x)\n",
    "        #     x = x.cpu()\n",
    "    \n",
    "        # Z-Step\n",
    "        CACHE_RELUS_COPY = copy.deepcopy(CACHE_RELUS)\n",
    "        \n",
    "        # process for each sample\n",
    "        # queue = mp.Queue()\n",
    "        # processes = []\n",
    "        # for n_sample in range(5):\n",
    "        #     p = mp.Process(target=partial(z_step, mu=mu, H=H, h_k=h_k), \n",
    "        #                    args=(n_sample, _get_cached_relus(n_sample), x[n_sample], queue, WEIGHTS))\n",
    "        #     p.start()\n",
    "        #     processes.append(p)\n",
    "        # for p in processes:\n",
    "        #     p.join()\n",
    "        with mp.Pool(processes=4) as pool:\n",
    "            for n_sample, new_relus in pool.starmap(partial(z_step, mu=mu, h_k=h_k),\n",
    "                                               ((n_sample, _get_cached_relus(n_sample), \n",
    "                                                 x[n_sample], WEIGHTS) for n_sample in range(n_samples))):\n",
    "                # Updating CACHE_RELUS\n",
    "                start = 0\n",
    "                for layer_idx in range(len(h_k)):\n",
    "                    CACHE_RELUS[layer_idx][n_sample] = new_relus[start:h_k[layer_idx]]\n",
    "                    start = h_k[layer_idx]\n",
    "            \n",
    "        # Computing Relus Norm Difference\n",
    "        for layer_idx in range(len(CACHE_RELUS)):\n",
    "            print(f'Layer {layer_idx} Activations Diff Norm: '\n",
    "                  f'{np.linalg.norm(CACHE_RELUS[layer_idx]-CACHE_RELUS_COPY[layer_idx]) / np.linalg.norm(CACHE_RELUS_COPY[layer_idx])}')\n",
    "            \n",
    "        mu *= 10\n",
    "        break\n",
    "        # print()"
   ]
  },
  {
   "cell_type": "code",
   "execution_count": null,
   "id": "3824b558-a251-4b61-98af-f6a97c6d3ea3",
   "metadata": {},
   "outputs": [],
   "source": []
  },
  {
   "cell_type": "code",
   "execution_count": 78,
   "id": "f3d79c81-df71-4d86-bec4-efcb4e2db139",
   "metadata": {
    "tags": []
   },
   "outputs": [],
   "source": [
    "device = 'cuda'"
   ]
  },
  {
   "cell_type": "code",
   "execution_count": 79,
   "id": "f4f7bcc5-9194-43ae-912e-0002ba6ee286",
   "metadata": {
    "tags": []
   },
   "outputs": [],
   "source": [
    "def calculate_z_residuals(cache_relus, x, H, h_k, WEIGHTS):\n",
    "    \n",
    "    relu = nn.ReLU()\n",
    "    \n",
    "    residuals = torch.zeros(H)\n",
    "    start = 0\n",
    "    for layer_idx in range(len(h_k)):\n",
    "        if layer_idx == 0:\n",
    "            residuals[start:h_k[layer_idx]] = cache_relus[start:h_k[layer_idx]] - relu(torch.einsum('q,hq->h', x, WEIGHTS[layer_idx]))\n",
    "        elif layer_idx == 1:\n",
    "            residuals[start:h_k[layer_idx]] = cache_relus[start:h_k[layer_idx]] \\\n",
    "                                              - relu(torch.einsum('q,hq->h', cache_relus[:h_k[layer_idx-1]], \n",
    "                                                                             WEIGHTS[layer_idx]))\n",
    "        elif layer_idx == len(h_k) - 1:\n",
    "            residuals[start:h_k[layer_idx]] = x - relu(torch.einsum('q,hq->h', cache_relus[h_k[layer_idx-2]:h_k[layer_idx-1]], WEIGHTS[layer_idx]))\n",
    "        else:\n",
    "            residuals[start:h_k[layer_idx]] = cache_relus[start:h_k[layer_idx]] \\\n",
    "                                              - relu(torch.einsum('q,hq->h', cache_relus[h_k[layer_idx-2]:h_k[layer_idx-1]], \n",
    "                                                                             WEIGHTS[layer_idx]))\n",
    "        start = h_k[layer_idx]\n",
    "    return residuals\n",
    "\n",
    "def z_step(n_sample, cache_relus, x, WEIGHTS, mu, H, h_k):\n",
    "    \n",
    "    # Calculating Residuals\n",
    "    residuals = calculate_z_residuals(cache_relus, x, H, h_k, WEIGHTS)\n",
    "    \n",
    "    # Quadratic Penalty\n",
    "    mu_mult = torch.ones_like(residuals)\n",
    "    mu_mult[:h_k[-2]] = math.sqrt(mu)\n",
    "    residuals = mu_mult * residuals\n",
    "\n",
    "    # Building Jacobian for each sample in dataset\n",
    "    J = torch.zeros((H, H))\n",
    "    for h in range(H):\n",
    "        if h < h_k[-2]: J[h, h] = mu\n",
    "        for layer_idx in range(len(h_k)):\n",
    "            if h < h_k[layer_idx]: break\n",
    "        if layer_idx == 0: continue\n",
    "\n",
    "        n_feature = h-h_k[layer_idx-1]\n",
    "        assert n_feature >= 0 and n_feature < WEIGHTS[layer_idx].shape[0]\n",
    "\n",
    "        if layer_idx == 1:\n",
    "            start, finish = 0, h_k[layer_idx-1]\n",
    "        elif layer_idx > 1:\n",
    "            start, finish = h_k[layer_idx-2], h_k[layer_idx-1]\n",
    "        if cache_relus[h] > 0:\n",
    "            J[h, start:finish] = - WEIGHTS[layer_idx][n_feature]\n",
    "            # Quadratic Penalty\n",
    "            if layer_idx != len(h_k)-1:\n",
    "                J[h, start:finish] *= mu\n",
    "\n",
    "    # Descent Direction\n",
    "    p = torch.linalg.lstsq(J.T@J, - J.T @ residuals, rcond=None)[0]\n",
    "    # p.T @ grad (.T doesn't matter, numpy performs inner product)\n",
    "    descent_inner_prod = (J.T @ residuals) @ p\n",
    "    try:\n",
    "        assert descent_inner_prod <= 0\n",
    "    except:\n",
    "        print(f'sample {n_sample} descent direction should be <= 0', descent_inner_prod)\n",
    "\n",
    "    # Line Search with Backtracking\n",
    "    alpha = 1.0\n",
    "    fw = residuals.sum() / 2\n",
    "    # recompute residuals with relus update\n",
    "    residuals_new = calculate_z_residuals(cache_relus + alpha * p, x, H, h_k, WEIGHTS)\n",
    "\n",
    "    # Quadratic Penalty\n",
    "    residuals_new = mu_mult * residuals_new\n",
    "    fw_new = (residuals_new**2).sum() / 2\n",
    "    rhs = alpha * line_search_c * descent_inner_prod\n",
    "\n",
    "    max_iter, counter = 40, 0\n",
    "    # Armijo Condition\n",
    "    while fw_new - fw > rhs and counter < max_iter:\n",
    "        # step update\n",
    "        alpha *= line_search_tau\n",
    "\n",
    "        # recompute residuals with new relus update\n",
    "        residuals_new = calculate_z_residuals(cache_relus + alpha * p, x, H, h_k, WEIGHTS)\n",
    "\n",
    "        # Quadratic Penalty\n",
    "        residuals_new = mu_mult * residuals_new\n",
    "        fw_new = (residuals_new**2).sum() / 2\n",
    "        rhs = alpha * line_search_c * descent_inner_prod\n",
    "\n",
    "        # print(\"Line search armijo: obj func old: %f new: %f diff: %.16f rhs: %.16f, alpha: %f\" % (fw, fw_new, fw_new - fw, rhs, alpha))\n",
    "        counter += 1\n",
    "     \n",
    "    return cache_relus + alpha * p"
   ]
  },
  {
   "cell_type": "code",
   "execution_count": 80,
   "id": "253cd9f3-4ac7-49f5-935f-9ad59ba4e0bb",
   "metadata": {
    "tags": []
   },
   "outputs": [],
   "source": [
    "def calculate_w_residuals(layer_idx, h, w_h, x, CACHE_RELUS):\n",
    "    \n",
    "    relu = nn.ReLU()\n",
    "    \n",
    "    if layer_idx == 0:\n",
    "        residuals = CACHE_RELUS[layer_idx][:,h] - relu(torch.einsum('bq,q->b', x, w_h))\n",
    "    elif layer_idx == len(CACHE_RELUS) - 1:\n",
    "        residuals = x[:,h] - relu(torch.einsum('bq,q->b', CACHE_RELUS[layer_idx-1], w_h))\n",
    "    else:\n",
    "        residuals = CACHE_RELUS[layer_idx][:,h] - relu(torch.einsum('bq,q->b', CACHE_RELUS[layer_idx-1], w_h))\n",
    "        \n",
    "    return residuals\n",
    "\n",
    "def w_step(layer_idx, h, w_h, x, CACHE_RELUS, n_samples):\n",
    "    residuals = calculate_w_residuals(layer_idx, h, w_h, x, CACHE_RELUS)\n",
    "    \n",
    "    # Building Jacobian (for each layer and output dim)\n",
    "    J = torch.zeros((n_samples, len(w_h)))\n",
    "\n",
    "    if layer_idx == 0:\n",
    "        for n in range(n_samples):\n",
    "            if CACHE_RELUS[layer_idx][n][h] > 0:\n",
    "                J[n, :] = - x[n]\n",
    "    else:\n",
    "        for n in range(n_samples):\n",
    "            if CACHE_RELUS[layer_idx][n][h] > 0:\n",
    "                J[n, :] = - CACHE_RELUS[layer_idx-1][n]\n",
    "\n",
    "    p = torch.linalg.lstsq(J.T@J, - J.T @ residuals, rcond=None)[0]\n",
    "    # p.T @ grad (.T doesn't matter, numpy performs inner product)\n",
    "    descent_inner_prod = (J.T @ residuals) @ p\n",
    "    try:\n",
    "        assert descent_inner_prod <= 0\n",
    "    except:\n",
    "        # pass\n",
    "        print(f'layer {layer_idx+1} dim {h} descent(should be <= 0)', descent_inner_prod)\n",
    "\n",
    "    # Line Search with Backtracking\n",
    "    alpha = 1.0\n",
    "    fw = (residuals**2).sum() / 2\n",
    "    # First Update\n",
    "    residuals_new = calculate_w_residuals(layer_idx, h, w_h + alpha*p, x, CACHE_RELUS)\n",
    "    fw_new = (residuals_new**2).sum() / 2\n",
    "    rhs = alpha * line_search_c * descent_inner_prod\n",
    "\n",
    "    max_iter, counter = 40, 0\n",
    "    # Armijo Condition\n",
    "    while fw_new - fw > rhs and counter < max_iter:\n",
    "        alpha *= line_search_tau\n",
    "        # Update\n",
    "        residuals_new = calculate_w_residuals(layer_idx, h, w_h + alpha*p, x, CACHE_RELUS)\n",
    "        fw_new = (residuals_new**2).sum() / 2\n",
    "        rhs = alpha * line_search_c * descent_inner_prod\n",
    "\n",
    "        # print(\"Line search armijo: obj func old: %f new: %f diff: %.16f rhs: %.16f, alpha: %f\" % (fw, fw_new, fw_new - fw, rhs, alpha))\n",
    "        counter += 1\n",
    "        \n",
    "    return w_h + alpha*p"
   ]
  },
  {
   "cell_type": "code",
   "execution_count": 81,
   "id": "f5bae4fd-0c09-4414-a31e-a63721ff45d2",
   "metadata": {},
   "outputs": [
    {
     "name": "stdout",
     "output_type": "stream",
     "text": [
      "n samples: 7291\n"
     ]
    },
    {
     "name": "stderr",
     "output_type": "stream",
     "text": [
      "100%|██████████| 6/6 [00:03<00:00,  1.84it/s]"
     ]
    },
    {
     "name": "stdout",
     "output_type": "stream",
     "text": [
      "Layer 0, Weights Diff Norm: 6.4220453168672975e-06\n",
      "Layer 1, Weights Diff Norm: 1.614207576494664e-05\n",
      "Layer 2, Weights Diff Norm: 5.0705184548860416e-05\n",
      "Layer 3, Weights Diff Norm: 0.00011182978050783277\n",
      "Layer 4, Weights Diff Norm: 8.322960638906807e-06\n",
      "Layer 5, Weights Diff Norm: 0.0\n"
     ]
    },
    {
     "name": "stderr",
     "output_type": "stream",
     "text": [
      "\n"
     ]
    },
    {
     "name": "stdout",
     "output_type": "stream",
     "text": [
      "Epoch 1, Eval loss: 0.16191048920154572\n"
     ]
    },
    {
     "name": "stderr",
     "output_type": "stream",
     "text": [
      "100%|██████████| 7291/7291 [07:08<00:00, 17.00it/s]"
     ]
    },
    {
     "name": "stdout",
     "output_type": "stream",
     "text": [
      "Layer 0 Activations Diff Norm: 0.014977892860770226\n",
      "Layer 1 Activations Diff Norm: 0.09165359288454056\n",
      "Layer 2 Activations Diff Norm: 0.8426288366317749\n",
      "Layer 3 Activations Diff Norm: 2.8289988040924072\n",
      "Layer 4 Activations Diff Norm: 16.431354522705078\n",
      "Layer 5 Activations Diff Norm: 0.0\n",
      "CPU times: user 23min 27s, sys: 3.76 s, total: 23min 30s\n",
      "Wall time: 7min 17s\n"
     ]
    },
    {
     "name": "stderr",
     "output_type": "stream",
     "text": [
      "\n"
     ]
    }
   ],
   "source": [
    "%%time\n",
    "\n",
    "relu = nn.ReLU()\n",
    "\n",
    "line_search_c = pow(10,-4)\n",
    "# backtracking multiplier\n",
    "line_search_tau = 0.5\n",
    "\n",
    "# Quadratic Penalty multiplier \n",
    "mu = 1.0\n",
    "\n",
    "loss_function = torch.nn.MSELoss()\n",
    "loss_hist = []\n",
    "\n",
    "# registering hooks to cache activations\n",
    "model = AE().to(device)\n",
    "\n",
    "WEIGHTS = [\n",
    "    model.encoder[0].weight.detach().cpu(),\n",
    "    model.encoder[2].weight.detach().cpu(),\n",
    "    model.encoder[4].weight.detach().cpu(),\n",
    "    model.decoder[0].weight.detach().cpu(),\n",
    "    model.decoder[2].weight.detach().cpu(),\n",
    "    model.decoder[4].weight.detach().cpu(),\n",
    "]\n",
    "\n",
    "# sum of all output shapes\n",
    "H = 0\n",
    "h_k = [0]\n",
    "for W in WEIGHTS:\n",
    "    H += W.shape[0]\n",
    "    h_k.append(W.shape[0] + h_k[-1])\n",
    "h_k = h_k[1:]\n",
    "\n",
    "CACHE_RELUS = {}\n",
    "\n",
    "def cache_relu_hook(idx, module, input, output):\n",
    "    CACHE_RELUS[idx] = output.detach().cpu()\n",
    "\n",
    "i = 0 \n",
    "for m in model.modules():\n",
    "    if isinstance(m, nn.ReLU):\n",
    "        handle = m.register_forward_hook(partial(cache_relu_hook, i))\n",
    "        i += 1\n",
    "        \n",
    "# caching activations\n",
    "with torch.no_grad():\n",
    "    for x, _ in train_loader:\n",
    "        x = x.to(device)\n",
    "        _ = model(x)\n",
    "        x = x.detach().cpu()\n",
    "        \n",
    "# Removing Hooks\n",
    "for m in model.modules():\n",
    "    if isinstance(m, nn.ReLU):\n",
    "        m._forward_hooks = OrderedDict()\n",
    "        \n",
    "def _get_cached_relus(n_sample):\n",
    "    cache_relus = torch.zeros(H)\n",
    "    start = 0\n",
    "    for layer_idx in range(len(h_k)):\n",
    "        cache_relus[start:h_k[layer_idx]] = CACHE_RELUS[layer_idx][n_sample]\n",
    "        start = h_k[layer_idx]\n",
    "    return cache_relus\n",
    "\n",
    "n_samples = x.shape[0]\n",
    "print('n samples:', n_samples)\n",
    "        \n",
    "with torch.no_grad():\n",
    "    for epoch in range(10):\n",
    "        \n",
    "        # W-Step\n",
    "        WEIGHTS_COPY = copy.deepcopy(WEIGHTS)\n",
    "\n",
    "        for layer_idx in tqdm(range(len(h_k))):\n",
    "\n",
    "            # for h in range(WEIGHTS[layer_idx].shape[0]):\n",
    "            for h in range(5):\n",
    "                w_h = WEIGHTS[layer_idx][h]\n",
    "                new_w_h = w_step(layer_idx, h, w_h, x, CACHE_RELUS, n_samples)\n",
    "                WEIGHTS[layer_idx][h] = new_w_h\n",
    "                    \n",
    "        # Checking Norm Difference\n",
    "        for layer_idx in range(len(h_k)):\n",
    "            print(f'Layer {layer_idx}, '\n",
    "                  f'Weights Diff Norm: {torch.linalg.norm(WEIGHTS[layer_idx]-WEIGHTS_COPY[layer_idx]) / torch.linalg.norm(WEIGHTS_COPY[layer_idx])}')\n",
    "        \n",
    "        # Loading weights back to model to compute eval loss\n",
    "        model.encoder[0].weight.data = WEIGHTS[0]\n",
    "        model.encoder[2].weight.data = WEIGHTS[1]\n",
    "        model.encoder[4].weight.data = WEIGHTS[2]\n",
    "        model.decoder[0].weight.data = WEIGHTS[3]\n",
    "        model.decoder[2].weight.data = WEIGHTS[4]\n",
    "        model.decoder[4].weight.data = WEIGHTS[5]\n",
    "        model = model.to(device)\n",
    "        \n",
    "        # Loss on eval dataset\n",
    "        loss = eval_loss(model, test_loader, loss_function, device=device)\n",
    "        loss_hist.append(loss)\n",
    "        print(f'Epoch {epoch+1}, Eval loss: {loss}')\n",
    "        \n",
    "        # # recalculating activations after weights update\n",
    "        # for x, _ in train_loader:\n",
    "        #     x = x.to(device)\n",
    "        #     _ = model(x)\n",
    "        #     x = x.cpu()\n",
    "    \n",
    "        # Z-Step\n",
    "        CACHE_RELUS_COPY = copy.deepcopy(CACHE_RELUS)\n",
    "        \n",
    "        # process for each sample\n",
    "        for n_sample in tqdm(range(n_samples)):\n",
    "            new_relus = z_step(n_sample, _get_cached_relus(n_sample), x[n_sample], WEIGHTS, mu, H, h_k)\n",
    "            start = 0\n",
    "            for layer_idx in range(len(h_k)):\n",
    "                CACHE_RELUS[layer_idx][n_sample] = new_relus[start:h_k[layer_idx]]\n",
    "                start = h_k[layer_idx]\n",
    "\n",
    "        # Computing Relus Norm Difference\n",
    "        for layer_idx in range(len(CACHE_RELUS)):\n",
    "            print(f'Layer {layer_idx} Activations Diff Norm: '\n",
    "                  f'{torch.linalg.norm(CACHE_RELUS[layer_idx]-CACHE_RELUS_COPY[layer_idx]) / torch.linalg.norm(CACHE_RELUS_COPY[layer_idx])}')\n",
    "            \n",
    "        mu *= 10\n",
    "        break\n",
    "        # print()"
   ]
  },
  {
   "cell_type": "code",
   "execution_count": null,
   "id": "b3907fa5-b764-45e9-b640-d3b69267e26e",
   "metadata": {},
   "outputs": [],
   "source": []
  },
  {
   "cell_type": "markdown",
   "id": "3c348a68-b8e0-4ff9-adab-0020d602203d",
   "metadata": {
    "jp-MarkdownHeadingCollapsed": true,
    "tags": []
   },
   "source": [
    "## cpu, numpy, multiprocessing"
   ]
  },
  {
   "cell_type": "code",
   "execution_count": null,
   "id": "1fd8a236-4dff-4738-abce-d6d860c49995",
   "metadata": {},
   "outputs": [],
   "source": [
    "def relu(x):\n",
    "    return np.maximum(0.0, x)\n",
    "\n",
    "def calculate_z_residuals(cache_relus, x, h_k, WEIGHTS):\n",
    "    \n",
    "    residuals = np.zeros(h_k[-1])\n",
    "    start = 0\n",
    "    for layer_idx in range(len(h_k)):\n",
    "        if layer_idx == 0:\n",
    "            residuals[start:h_k[layer_idx]] = cache_relus[start:h_k[layer_idx]] - relu(np.einsum('q,hq->h', x, WEIGHTS[layer_idx]))\n",
    "        elif layer_idx == 1:\n",
    "            residuals[start:h_k[layer_idx]] = cache_relus[start:h_k[layer_idx]] \\\n",
    "                                              - relu(np.einsum('q,hq->h', cache_relus[:h_k[layer_idx-1]], \n",
    "                                                                             WEIGHTS[layer_idx]))\n",
    "        elif layer_idx == len(h_k) - 1:\n",
    "            residuals[start:h_k[layer_idx]] = x - relu(np.einsum('q,hq->h', cache_relus[h_k[layer_idx-2]:h_k[layer_idx-1]], WEIGHTS[layer_idx]))\n",
    "        else:\n",
    "            residuals[start:h_k[layer_idx]] = cache_relus[start:h_k[layer_idx]] \\\n",
    "                                              - relu(np.einsum('q,hq->h', cache_relus[h_k[layer_idx-2]:h_k[layer_idx-1]], \n",
    "                                                                             WEIGHTS[layer_idx]))\n",
    "        start = h_k[layer_idx]\n",
    "    return residuals\n",
    "\n",
    "def z_step(n_sample, cache_relus, x, queue, WEIGHTS, mu, h_k):\n",
    "    \n",
    "    # Calculating Residuals\n",
    "    residuals = calculate_z_residuals(cache_relus, x, h_k, WEIGHTS)\n",
    "    \n",
    "    # Quadratic Penalty\n",
    "    mu_mult = np.ones_like(residuals)\n",
    "    mu_mult[:h_k[-2]] = math.sqrt(mu)\n",
    "    residuals = mu_mult * residuals\n",
    "\n",
    "    # Building Jacobian for each sample in dataset\n",
    "    J = np.zeros((h_k[-1], h_k[-2]))\n",
    "    for h in range(Hh_k[-1]):\n",
    "        if h < h_k[-2]: J[h, h] = mu\n",
    "        for layer_idx in range(len(h_k)):\n",
    "            if h < h_k[layer_idx]: break\n",
    "        if layer_idx == 0: continue\n",
    "\n",
    "        n_feature = h-h_k[layer_idx-1]\n",
    "        assert n_feature >= 0 and n_feature < WEIGHTS[layer_idx].shape[0]\n",
    "\n",
    "        if layer_idx == 1:\n",
    "            start, finish = 0, h_k[layer_idx-1]\n",
    "        elif layer_idx > 1:\n",
    "            start, finish = h_k[layer_idx-2], h_k[layer_idx-1]\n",
    "        if cache_relus[h] > 0:\n",
    "            J[h, start:finish] = - WEIGHTS[layer_idx][n_feature]\n",
    "            # Quadratic Penalty\n",
    "            if layer_idx != len(h_k)-1:\n",
    "                J[h, start:finish] *= mu\n",
    "\n",
    "    # Descent Direction\n",
    "    p = np.linalg.lstsq(J.T@J, - J.T @ residuals, rcond=None)[0]\n",
    "    # p.T @ grad (.T doesn't matter, numpy performs inner product)\n",
    "    descent_inner_prod = (J.T @ residuals) @ p\n",
    "    try:\n",
    "        assert descent_inner_prod <= 0\n",
    "    except:\n",
    "        print(f'sample {n_sample} descent direction should be <= 0', descent_inner_prod)\n",
    "\n",
    "    # Line Search with Backtracking\n",
    "    alpha = 1.0\n",
    "    fw = residuals.sum() / 2\n",
    "    # recompute residuals with relus update\n",
    "    residuals_new = calculate_z_residuals(cache_relus + alpha * p_, x, h_k, WEIGHTS)\n",
    "\n",
    "    # Quadratic Penalty\n",
    "    residuals_new = mu_mult * residuals_new\n",
    "    fw_new = (residuals_new**2).sum() / 2\n",
    "    rhs = alpha * line_search_c * descent_inner_prod\n",
    "\n",
    "    max_iter, counter = 40, 0\n",
    "    # Armijo Condition\n",
    "    while fw_new - fw > rhs and counter < max_iter:\n",
    "        # step update\n",
    "        alpha *= line_search_tau\n",
    "\n",
    "        # recompute residuals with new relus update\n",
    "        residuals_new = calculate_z_residuals(cache_relus + alpha * p_, x, h_k, WEIGHTS)\n",
    "\n",
    "        # Quadratic Penalty\n",
    "        residuals_new = mu_mult * residuals_new\n",
    "        fw_new = (residuals_new**2).sum() / 2\n",
    "        rhs = alpha * line_search_c * descent_inner_prod\n",
    "\n",
    "        # print(\"Line search armijo: obj func old: %f new: %f diff: %.16f rhs: %.16f, alpha: %f\" % (fw, fw_new, fw_new - fw, rhs, alpha))\n",
    "        counter += 1\n",
    "        \n",
    "    queue.put((n_sample, cache_relus + alpha * p_))"
   ]
  },
  {
   "cell_type": "code",
   "execution_count": null,
   "id": "0635f326-9528-43c9-8a0e-90046390a87a",
   "metadata": {
    "tags": []
   },
   "outputs": [],
   "source": [
    "def relu(x):\n",
    "    return np.maximum(0.0, x)\n",
    "\n",
    "def calculate_w_residuals(layer_idx, h, w_h, x, CACHE_RELUS):\n",
    "    \n",
    "    if layer_idx == 0:\n",
    "        residuals = CACHE_RELUS[layer_idx][:,h] - relu(np.einsum('bq,q->b', x, w_h))\n",
    "    elif layer_idx == len(CACHE_RELUS) - 1:\n",
    "        residuals = x[:,h] - relu(np.einsum('bq,q->b', CACHE_RELUS[layer_idx-1], w_h))\n",
    "    else:\n",
    "        residuals = CACHE_RELUS[layer_idx][:,h] - relu(np.einsum('bq,q->b', CACHE_RELUS[layer_idx-1], w_h))\n",
    "        \n",
    "    return residuals\n",
    "\n",
    "def w_step(layer_idx, h, in_dim, out_dim, w_h, x, CACHE_RELUS, queue, n_samples):\n",
    "    \n",
    "    residuals = calculate_w_residuals(layer_idx, h, w_h, x, CACHE_RELUS)\n",
    "    \n",
    "    # Building Jacobian (for each layer and output dim)\n",
    "    J = np.zeros((n_samples, in_dim))\n",
    "\n",
    "    if layer_idx == 0:\n",
    "        for n in range(n_samples):\n",
    "            if CACHE_RELUS[layer_idx][n][h] > 0:\n",
    "                J[n, :] = - x[n]\n",
    "    else:\n",
    "        for n in range(n_samples):\n",
    "            if CACHE_RELUS[layer_idx][n][h] > 0:\n",
    "                J[n, :] = - CACHE_RELUS[layer_idx-1][n]\n",
    "\n",
    "    p = np.linalg.lstsq(J.T@J, - J.T @ residuals, rcond=None)[0]\n",
    "    # p.T @ grad (.T doesn't matter, numpy performs inner product)\n",
    "    descent_inner_prod = (J.T @ residuals) @ p\n",
    "    try:\n",
    "        assert descent_inner_prod <= 0\n",
    "    except:\n",
    "        # pass\n",
    "        print(f'layer {layer_idx+1} dim {h} descent(should be <= 0)', descent_inner_prod)\n",
    "\n",
    "    # Line Search with Backtracking\n",
    "    alpha = 1.0\n",
    "    fw = (residuals**2).sum() / 2\n",
    "    # First Update\n",
    "    residuals_new = calculate_w_residuals(layer_idx, h, w_h + alpha*p, x, CACHE_RELUS)\n",
    "    fw_new = (residuals_new**2).sum() / 2\n",
    "    rhs = alpha * line_search_c * descent_inner_prod\n",
    "\n",
    "    max_iter, counter = 40, 0\n",
    "    # Armijo Condition\n",
    "    while fw_new - fw > rhs and counter < max_iter:\n",
    "        alpha *= line_search_tau\n",
    "        # Update\n",
    "        residuals_new = calculate_w_residuals(layer_idx, h, w_h + alpha*p, x, CACHE_RELUS)\n",
    "        fw_new = (residuals_new**2).sum() / 2\n",
    "        rhs = alpha * line_search_c * descent_inner_prod\n",
    "\n",
    "        # print(\"Line search armijo: obj func old: %f new: %f diff: %.16f rhs: %.16f, alpha: %f\" % (fw, fw_new, fw_new - fw, rhs, alpha))\n",
    "        counter += 1\n",
    "        \n",
    "    queue.put((layer_idx, h, w_h + alpha*p))"
   ]
  },
  {
   "cell_type": "code",
   "execution_count": null,
   "id": "a2b4ee81-9699-4209-a0a5-bde3742c88cb",
   "metadata": {},
   "outputs": [],
   "source": [
    "%%time\n",
    "\n",
    "def relu(x):\n",
    "    return np.maximum(0.0, x)\n",
    "\n",
    "line_search_c = pow(10,-4)\n",
    "# backtracking multiplier\n",
    "line_search_tau = 0.5\n",
    "\n",
    "# Quadratic Penalty multiplier \n",
    "mu = 1.0\n",
    "\n",
    "loss_function = torch.nn.MSELoss()\n",
    "loss_hist = []\n",
    "\n",
    "# registering hooks to cache activations\n",
    "model = AE().to(device)\n",
    "eval_loss = eval_loss(model, test_loader, loss_function, device=device)\n",
    "loss_hist.append(eval_loss)\n",
    "\n",
    "WEIGHTS = [\n",
    "    model.encoder[0].weight.detach().cpu().numpy(),\n",
    "    model.encoder[2].weight.detach().cpu().numpy(),\n",
    "    model.encoder[4].weight.detach().cpu().numpy(),\n",
    "    model.decoder[0].weight.detach().cpu().numpy(),\n",
    "    model.decoder[2].weight.detach().cpu().numpy(),\n",
    "    model.decoder[4].weight.detach().cpu().numpy(),\n",
    "]\n",
    "\n",
    "# sum of all output shapes\n",
    "h_k = [0]\n",
    "for W in WEIGHTS:\n",
    "    h_k.append(W.shape[0] + h_k[-1])\n",
    "h_k = h_k[1:]\n",
    "\n",
    "CACHE_RELUS = {}\n",
    "\n",
    "def cache_relu_hook(idx, module, input, output):\n",
    "    CACHE_RELUS[idx] = output.detach().cpu().numpy()\n",
    "\n",
    "i = 0 \n",
    "for m in model.modules():\n",
    "    if isinstance(m, nn.ReLU):\n",
    "        handle = m.register_forward_hook(partial(cache_relu_hook, i))\n",
    "        i += 1\n",
    "        \n",
    "# caching activations\n",
    "with torch.no_grad():\n",
    "    for x, _ in train_loader:\n",
    "        x = x.to(device)\n",
    "        _ = model(x)\n",
    "        x = x.detach().cpu().numpy()\n",
    "        \n",
    "# Removing Hooks\n",
    "for m in model.modules():\n",
    "    if isinstance(m, nn.ReLU):\n",
    "        m._forward_hooks = OrderedDict()\n",
    "        \n",
    "def _get_cached_relus(n_sample):\n",
    "    cache_relus = np.zeros(H)\n",
    "    start = 0\n",
    "    for layer_idx in range(len(h_k)):\n",
    "        cache_relus[start:h_k[layer_idx]] = CACHE_RELUS[layer_idx][n_sample]\n",
    "        start = h_k[layer_idx]\n",
    "    return cache_relus\n",
    "\n",
    "n_samples = x.shape[0]\n",
    "print('n samples:', n_samples)\n",
    "        \n",
    "with torch.no_grad():\n",
    "    for epoch in range(10):\n",
    "        \n",
    "        # W-Step\n",
    "        WEIGHTS_COPY = copy.deepcopy(WEIGHTS)\n",
    "        queue = mp.Queue()\n",
    "        processes = []\n",
    "\n",
    "        for layer_idx in tqdm(range(len(h_k))):\n",
    "            in_dim = WEIGHTS[layer_idx].shape[1]\n",
    "            out_dim = WEIGHTS[layer_idx].shape[0]\n",
    "\n",
    "            # for h in range(out_dim):\n",
    "            for h in range(5):\n",
    "                w_h = WEIGHTS[layer_idx][h]\n",
    "                w_step(layer_idx, h, in_dim, out_dim, w_h, x, CACHE_RELUS, queue, n_samples)\n",
    "                \n",
    "            # process for each unit in each layer\n",
    "#             for h in range(5):\n",
    "#                 w_h = WEIGHTS[layer_idx][h]\n",
    "#                 p = mp.Process(target=partial(w_step, n_samples=n_samples),\n",
    "#                                args=(layer_idx, h, in_dim, out_dim, w_h, x, CACHE_RELUS, queue))\n",
    "#                 p.start()\n",
    "#                 processes.append(p)\n",
    "\n",
    "#         for p in processes:\n",
    "#             p.join()\n",
    "                \n",
    "        # updating  WEIGHTS\n",
    "        for _ in tqdm(range(queue.qsize())):\n",
    "            layer_idx, h, new_weights = queue.get()\n",
    "            WEIGHTS[layer_idx][h] = new_weights\n",
    "\n",
    "        # Checking Norm Difference\n",
    "        for layer_idx in range(len(h_k)):\n",
    "            print(f'Layer {layer_idx}, '\n",
    "                  f'Weights Diff Norm: {np.linalg.norm(WEIGHTS[layer_idx]-WEIGHTS_COPY[layer_idx]) / np.linalg.norm(WEIGHTS_COPY[layer_idx])}')\n",
    "        \n",
    "        # Loading weights back to model to compute eval loss\n",
    "        model.encoder[0].weight.data = torch.tensor(WEIGHTS[0])\n",
    "        model.encoder[2].weight.data = torch.tensor(WEIGHTS[1])\n",
    "        model.encoder[4].weight.data = torch.tensor(WEIGHTS[2])\n",
    "        model.decoder[0].weight.data = torch.tensor(WEIGHTS[3])\n",
    "        model.decoder[2].weight.data = torch.tensor(WEIGHTS[4])\n",
    "        model.decoder[4].weight.data = torch.tensor(WEIGHTS[5])\n",
    "        model = model.to(device)\n",
    "        \n",
    "        # Loss on eval dataset\n",
    "        loss = eval_loss(model, test_loader, loss_function, device=device)\n",
    "        loss_hist.append(loss)\n",
    "        print(f'Epoch {epoch+1}, Eval loss: {loss}')\n",
    "        \n",
    "        # # recalculating activations after weights update\n",
    "        # for x, _ in train_loader:\n",
    "        #     x = x.to(device)\n",
    "        #     _ = model(x)\n",
    "        #     x = x.cpu()\n",
    "    \n",
    "        # Z-Step\n",
    "        CACHE_RELUS_COPY = copy.deepcopy(CACHE_RELUS)\n",
    "        \n",
    "        # process for each sample\n",
    "        queue = mp.Queue()\n",
    "        processes = []\n",
    "        for n_sample in range(5):\n",
    "            p = mp.Process(target=partial(z_step, mu=mu, h_k=h_k), \n",
    "                           args=(n_sample, _get_cached_relus(n_sample), x[n_sample], queue, WEIGHTS))\n",
    "            p.start()\n",
    "            processes.append(p)\n",
    "        for p in processes:\n",
    "            p.join()\n",
    "            \n",
    "        # Updating CACHE_RELUS\n",
    "        for _ in tqdm(range(queue.qsize())):\n",
    "            n_sample, new_relus = queue.get()\n",
    "            start = 0\n",
    "            for layer_idx in range(len(h_k)):\n",
    "                CACHE_RELUS[layer_idx][n_sample] = new_relus[start:h_k[layer_idx]]\n",
    "                start = h_k[layer_idx]\n",
    "            \n",
    "        # Computing Relus Norm Difference\n",
    "        for layer_idx in range(len(CACHE_RELUS)):\n",
    "            print(f'Layer {layer_idx} Activations Diff Norm: '\n",
    "                  f'{np.linalg.norm(CACHE_RELUS[layer_idx]-CACHE_RELUS_COPY[layer_idx]) / np.linalg.norm(CACHE_RELUS_COPY[layer_idx])}')\n",
    "            \n",
    "        mu *= 10\n",
    "        break\n",
    "        # print()"
   ]
  },
  {
   "cell_type": "code",
   "execution_count": null,
   "id": "03b83191-497b-4ff1-a4ff-4afdf375e0bc",
   "metadata": {},
   "outputs": [],
   "source": []
  },
  {
   "cell_type": "code",
   "execution_count": null,
   "id": "10f4284e-6f7e-416a-aa5a-c5dc4356fcfd",
   "metadata": {},
   "outputs": [],
   "source": []
  },
  {
   "cell_type": "markdown",
   "id": "79a3d353-2823-4a54-870f-c5d1d47d3d74",
   "metadata": {},
   "source": [
    "## on cpu, randomly initialized z"
   ]
  },
  {
   "cell_type": "code",
   "execution_count": 35,
   "id": "e2b06aa7-4082-41c9-8f2e-d80efd9b30c1",
   "metadata": {
    "tags": []
   },
   "outputs": [
    {
     "name": "stderr",
     "output_type": "stream",
     "text": [
      "100%|██████████| 6/6 [00:01<00:00,  3.04it/s]"
     ]
    },
    {
     "name": "stdout",
     "output_type": "stream",
     "text": [
      "Layer 0, Weights Diff Norm: 0.2638310492038727\n",
      "Layer 1, Weights Diff Norm: 0.6869169473648071\n",
      "Layer 2, Weights Diff Norm: 0.594022274017334\n",
      "Layer 3, Weights Diff Norm: 0.7279062867164612\n",
      "Layer 4, Weights Diff Norm: 0.8580153584480286\n",
      "Layer 5, Weights Diff Norm: 0.39373132586479187\n"
     ]
    },
    {
     "name": "stderr",
     "output_type": "stream",
     "text": [
      "\n"
     ]
    },
    {
     "name": "stdout",
     "output_type": "stream",
     "text": [
      "Epoch 1, Eval loss: 0.16168735921382904\n"
     ]
    },
    {
     "name": "stderr",
     "output_type": "stream",
     "text": [
      "  0%|          | 2/7291 [00:00<07:14, 16.77it/s]"
     ]
    },
    {
     "name": "stdout",
     "output_type": "stream",
     "text": [
      "tensor([1., 1., 1.,  ..., 1., 1., 1.])\n",
      "torch.Size([1076])\n"
     ]
    },
    {
     "name": "stderr",
     "output_type": "stream",
     "text": [
      "  1%|          | 56/7291 [00:03<07:02, 17.13it/s]\n"
     ]
    },
    {
     "ename": "KeyboardInterrupt",
     "evalue": "",
     "output_type": "error",
     "traceback": [
      "\u001b[0;31m---------------------------------------------------------------------------\u001b[0m",
      "\u001b[0;31mKeyboardInterrupt\u001b[0m                         Traceback (most recent call last)",
      "File \u001b[0;32m<timed exec>:170\u001b[0m\n",
      "\u001b[0;31mKeyboardInterrupt\u001b[0m: "
     ]
    }
   ],
   "source": [
    "%%time\n",
    "\n",
    "relu = nn.ReLU()\n",
    "line_search_c = pow(10,-4)\n",
    "# Quadratic Penalty Multiplier\n",
    "mu = 1.0\n",
    "# backtracking multiplier\n",
    "line_search_tau = 0.5\n",
    "alphas_w = []\n",
    "alphas_z = []\n",
    "loss_hist = []\n",
    "\n",
    "# registering hooks to cache activations\n",
    "model = AE().to(device)\n",
    "\n",
    "WEIGHTS = [\n",
    "    model.encoder[0].weight.detach().cpu(),\n",
    "    model.encoder[2].weight.detach().cpu(),\n",
    "    model.encoder[4].weight.detach().cpu(),\n",
    "    model.decoder[0].weight.detach().cpu(),\n",
    "    model.decoder[2].weight.detach().cpu(),\n",
    "    model.decoder[4].weight.detach().cpu(),\n",
    "]\n",
    "\n",
    "# sum of all output shapes\n",
    "H = 0\n",
    "h_k = [0]\n",
    "for W in WEIGHTS:\n",
    "    H += W.shape[0]\n",
    "    h_k.append(W.shape[0] + h_k[-1])\n",
    "h_k = h_k[1:]\n",
    "\n",
    "CACHE_RELUS = {}\n",
    "\n",
    "def cache_relu_hook(idx, module, input, output):\n",
    "    CACHE_RELUS[idx] = output.detach().cpu().numpy()\n",
    "\n",
    "i = 0 \n",
    "for m in model.modules():\n",
    "    if isinstance(m, nn.ReLU):\n",
    "        handle = m.register_forward_hook(partial(cache_relu_hook, i))\n",
    "        i += 1\n",
    "        \n",
    "# caching activations\n",
    "with torch.no_grad():\n",
    "    for x, _ in train_loader:\n",
    "        x = x.to(device)\n",
    "        _ = model(x)\n",
    "        x = x.detach().cpu()\n",
    "    \n",
    "with torch.no_grad():\n",
    "    for epoch in range(1):\n",
    "        \n",
    "        # W-Step\n",
    "        WEIGHTS_COPY = copy.deepcopy(WEIGHTS)\n",
    "\n",
    "        for layer_idx in tqdm(range(len(CACHE_RELUS))):\n",
    "            in_dim = WEIGHTS[layer_idx].shape[1]\n",
    "            out_dim = WEIGHTS[layer_idx].shape[0]\n",
    "            n_samples = CACHE_RELUS[layer_idx].shape[0]\n",
    "\n",
    "            if layer_idx == 0:\n",
    "                residuals = CACHE_RELUS[layer_idx] - relu(x @ WEIGHTS[layer_idx].T)\n",
    "            elif layer_idx == len(CACHE_RELUS) - 1:\n",
    "                # reconstruction task\n",
    "                residuals = x - relu(CACHE_RELUS[layer_idx-1] @ WEIGHTS[layer_idx].T)\n",
    "            else:\n",
    "                residuals = CACHE_RELUS[layer_idx] - relu(CACHE_RELUS[layer_idx-1] @ WEIGHTS[layer_idx].T)\n",
    "            # print('residuals:', residuals.shape)\n",
    "\n",
    "            # for h in range(out_dim):\n",
    "            for h in range(3):\n",
    "                # Building Jacobian (for each layer and output dim)\n",
    "                J = torch.zeros((n_samples, in_dim))\n",
    "                w = WEIGHTS[layer_idx][h]\n",
    "\n",
    "                if layer_idx == 0:\n",
    "                    for n in range(n_samples):\n",
    "                        if CACHE_RELUS[layer_idx][n][h] > 0:\n",
    "                            J[n, :] = - x[n]\n",
    "                else:\n",
    "                    for n in range(n_samples):\n",
    "                        if CACHE_RELUS[layer_idx][n][h] > 0:\n",
    "                            J[n, :] = - CACHE_RELUS[layer_idx-1][n]\n",
    "\n",
    "                p = torch.linalg.lstsq(J.T@J, - J.T @ residuals[:, h])[0]\n",
    "                # print('shape of p:', p.shape, 'shape of w:', w.shape)\n",
    "                # p.T @ grad (.T doesn't matter, numpy performs inner product)\n",
    "                descent_inner_prod = (J.T @ residuals[:, h]) @ p\n",
    "                try:\n",
    "                    assert descent_inner_prod <= 0\n",
    "                except:\n",
    "                    pass\n",
    "                    # print(f'layer {layer_idx+1} dim {h} descent(should be <= 0)', descent_inner_prod)\n",
    "\n",
    "                # Line Search with Backtracking\n",
    "                alpha = 1.0\n",
    "                fw = (residuals[:,h]**2).sum() / 2\n",
    "                # First Update\n",
    "                w += alpha*p\n",
    "                if layer_idx == 0:\n",
    "                    residuals_new = CACHE_RELUS[layer_idx][:,h] - relu(torch.einsum('bq,q->b', x, w))\n",
    "                elif layer_idx == len(CACHE_RELUS) - 1:\n",
    "                    residuals_new = x[:,h] - relu(torch.einsum('bq,q->b', CACHE_RELUS[layer_idx-1], w))\n",
    "                else:\n",
    "                    residuals_new = CACHE_RELUS[layer_idx][:,h] - relu(torch.einsum('bq,q->b', CACHE_RELUS[layer_idx-1], w))\n",
    "                fw_new = (residuals_new**2).sum() / 2\n",
    "                rhs = alpha * line_search_c * descent_inner_prod\n",
    "\n",
    "                max_iter, counter = 20, 0\n",
    "                # Armijo Condition\n",
    "                while fw_new - fw > rhs and counter < max_iter:\n",
    "                    alpha *= line_search_tau\n",
    "                    # Update\n",
    "                    w = WEIGHTS_COPY[layer_idx][h] + alpha * p\n",
    "                    if layer_idx == 0:\n",
    "                        residuals_new = CACHE_RELUS[layer_idx][:,h] - relu(torch.einsum('bq,q->b', x, w))\n",
    "                    else:\n",
    "                        residuals_new = CACHE_RELUS[layer_idx][:,h] - relu(torch.einsum('bq,q->b', CACHE_RELUS[layer_idx-1], w))\n",
    "                    fw_new = (residuals_new**2).sum() / 2\n",
    "                    rhs = alpha * line_search_c * descent_inner_prod\n",
    "\n",
    "                    # print(\"Line search armijo: obj func old: %f new: %f diff: %.16f rhs: %.16f, alpha: %f\" % (fw, fw_new, fw_new - fw, rhs, alpha))\n",
    "                    counter += 1\n",
    "                # alphas_w.append(alpha)\n",
    "\n",
    "        # Checking Weights Norm Difference\n",
    "        for layer_idx in range(len(CACHE_RELUS)):\n",
    "            print(f'Layer {layer_idx}, '\n",
    "                  f'Weights Diff Norm: {torch.norm(WEIGHTS[layer_idx]-WEIGHTS_COPY[layer_idx])}')\n",
    "            \n",
    "        # Loading weights back to model to compute eval loss\n",
    "        model.encoder[0].weight.data = WEIGHTS[0]\n",
    "        model.encoder[2].weight.data = WEIGHTS[1]\n",
    "        model.encoder[4].weight.data = WEIGHTS[2]\n",
    "        model.decoder[0].weight.data = WEIGHTS[3]\n",
    "        model.decoder[2].weight.data = WEIGHTS[4]\n",
    "        model.decoder[4].weight.data = WEIGHTS[5]\n",
    "        model = model.to(device)\n",
    "        \n",
    "        # Loss on eval dataset\n",
    "        loss = eval_loss(model, test_loader, loss_function, device=device)\n",
    "        loss_hist.append(loss)\n",
    "        print(f'Epoch {epoch+1}, Eval loss: {loss}')\n",
    "\n",
    "        # Z-Step\n",
    "        CACHE_RELUS_COPY = copy.deepcopy(CACHE_RELUS)\n",
    "            \n",
    "        for n_sample in tqdm(range(len(x))):\n",
    "\n",
    "            # Calculating Residuals\n",
    "            residuals = torch.zeros(H)\n",
    "            start = 0\n",
    "            for layer_idx in range(len(h_k)):\n",
    "                if layer_idx == 0:\n",
    "                    residuals[start:h_k[layer_idx]] = CACHE_RELUS[layer_idx][n_sample] - relu(torch.einsum('q,hq->h', x[n_sample], WEIGHTS[layer_idx]))\n",
    "                elif layer_idx == len(CACHE_RELUS) - 1:\n",
    "                    residuals[start:h_k[layer_idx]] = x[n_sample] - relu(torch.einsum('q,hq->h', CACHE_RELUS[layer_idx-1][n_sample], WEIGHTS[layer_idx]))\n",
    "                else:\n",
    "                    residuals[start:h_k[layer_idx]] = CACHE_RELUS[layer_idx][n_sample] - relu(torch.einsum('q,hq->h', CACHE_RELUS[layer_idx-1][n_sample], WEIGHTS[layer_idx]))\n",
    "                start = h_k[layer_idx]\n",
    "            # Quadratic Penalty\n",
    "            mu_mult = torch.ones_like(residuals)\n",
    "            mu_mult[:h_k[-2]] = sqrt(mu)\n",
    "            residuals = mu_mult * residuals\n",
    "            \n",
    "            # Building Jacobian for each sample in dataset\n",
    "            J = torch.zeros((H, H))\n",
    "            for h in range(H):\n",
    "                if h < h_k[-2]: J[h, h] = 1\n",
    "                for layer_idx in range(len(h_k)):\n",
    "                    if h <= h_k[layer_idx]: break\n",
    "                if layer_idx == 0: continue\n",
    "\n",
    "                n_feature = h-h_k[layer_idx-1]-1\n",
    "                assert n_feature >= 0 and n_feature < WEIGHTS[layer_idx].shape[0]\n",
    "\n",
    "                if layer_idx == 1:\n",
    "                    start, finish = 0, h_k[layer_idx-1]\n",
    "                elif layer_idx > 1:\n",
    "                    start, finish = h_k[layer_idx-2], h_k[layer_idx-1]\n",
    "                # print(CACHE_RELUS[layer_idx][n_sample][n_feature])\n",
    "                if CACHE_RELUS[layer_idx][n_sample][n_feature] > 0:\n",
    "                    # print(start, finish, n_feature, WEIGHTS[layer_idx][n_feature].shape)\n",
    "                    J[h, start:finish] = - WEIGHTS[layer_idx][n_feature]\n",
    "\n",
    "            # Descent Direction\n",
    "            p = torch.linalg.lstsq(J.T@J, - J.T @ residuals)[0]\n",
    "            # print('shape of p:', p.shape, 'shape of w:', w.shape)\n",
    "            # p.T @ grad (.T doesn't matter, numpy performs inner product)\n",
    "            descent_inner_prod = (J.T @ residuals) @ p\n",
    "            try:\n",
    "                assert descent_inner_prod <= 0\n",
    "            except:\n",
    "                print(f'sample {n_sample} descent direction should be <= 0', descent_inner_prod)\n",
    "\n",
    "            # Line Search with Backtracking\n",
    "            alpha = 1.0\n",
    "            fw = residuals.sum() / 2\n",
    "            # update\n",
    "            for layer_idx in range(len(CACHE_RELUS)):\n",
    "                if layer_idx == 0:\n",
    "                    start, finish = 0, h_k[layer_idx]\n",
    "                else:\n",
    "                    start, finish = h_k[layer_idx-1], h_k[layer_idx]\n",
    "\n",
    "                CACHE_RELUS[layer_idx][n_sample] = CACHE_RELUS_COPY[layer_idx][n_sample] + alpha * p[start:finish]\n",
    "                \n",
    "            residuals_new = torch.zeros(H)\n",
    "            start = 0\n",
    "            for layer_idx in range(len(h_k)):\n",
    "                if layer_idx == 0:\n",
    "                    residuals_new[start:h_k[layer_idx]] = CACHE_RELUS[layer_idx][n_sample] - relu(torch.einsum('q,hq->h', x[n_sample], WEIGHTS[layer_idx]))\n",
    "                elif layer_idx == len(CACHE_RELUS) - 1:\n",
    "                    residuals_new[start:h_k[layer_idx]] = x[n_sample] - relu(torch.einsum('q,hq->h', CACHE_RELUS[layer_idx-1][n_sample], WEIGHTS[layer_idx]))\n",
    "                else:\n",
    "                    residuals_new[start:h_k[layer_idx]] = CACHE_RELUS[layer_idx][n_sample] - relu(torch.einsum('q,hq->h', CACHE_RELUS[layer_idx-1][n_sample], WEIGHTS[layer_idx]))\n",
    "                start = h_k[layer_idx]\n",
    "            # Quadratic Penalty\n",
    "            residuals_new = mu_mult * residuals_new\n",
    "            if n_sample == 0: \n",
    "                print(mu_mult)\n",
    "                print(residuals_new.shape)\n",
    "            fw_new = (residuals_new**2).sum() / 2\n",
    "            rhs = alpha * line_search_c * descent_inner_prod\n",
    "            # print('fw:', fw, fw_new, rhs)\n",
    "            \n",
    "\n",
    "            max_iter, counter = 40, 0\n",
    "            # Armijo Condition\n",
    "            while fw_new - fw > rhs and counter < max_iter:\n",
    "                # step update\n",
    "                alpha *= line_search_tau\n",
    "                \n",
    "                # relus update\n",
    "                for layer_idx in range(len(CACHE_RELUS)):\n",
    "                    if layer_idx == 0:\n",
    "                        start, finish = 0, h_k[layer_idx]\n",
    "                    else:\n",
    "                        start, finish = h_k[layer_idx-1], h_k[layer_idx]\n",
    "\n",
    "                    CACHE_RELUS[layer_idx][n_sample] = CACHE_RELUS_COPY[layer_idx][n_sample] + alpha * p[start:finish]\n",
    "                    \n",
    "                # recompute residuals\n",
    "                start = 0\n",
    "                for layer_idx in range(len(h_k)):\n",
    "                    if layer_idx == 0:\n",
    "                        residuals_new[start:h_k[layer_idx]] = CACHE_RELUS[layer_idx][n_sample] - relu(torch.einsum('q,hq->h', x[n_sample], WEIGHTS[layer_idx]))\n",
    "                    elif layer_idx == len(CACHE_RELUS) - 1:\n",
    "                        residuals_new[start:h_k[layer_idx]] = x[n_sample] - relu(torch.einsum('q,hq->h', CACHE_RELUS[layer_idx-1][n_sample], WEIGHTS[layer_idx]))\n",
    "                    else:\n",
    "                        residuals_new[start:h_k[layer_idx]] = CACHE_RELUS[layer_idx][n_sample] - relu(torch.einsum('q,hq->h', CACHE_RELUS[layer_idx-1][n_sample], WEIGHTS[layer_idx]))\n",
    "                    start = h_k[layer_idx]\n",
    "                # Quadratic Penalty\n",
    "                residuals_new = mu_mult * residuals_new\n",
    "                fw_new = (residuals_new**2).sum() / 2\n",
    "                rhs = alpha * line_search_c * descent_inner_prod\n",
    "\n",
    "                # print(\"Line search armijo: obj func old: %f new: %f diff: %.16f rhs: %.16f, alpha: %f\" % (fw, fw_new, fw_new - fw, rhs, alpha))\n",
    "                counter += 1\n",
    "        \n",
    "        for layer_idx in range(len(CACHE_RELUS)):\n",
    "            print(f'Layer {layer_idx} Activations Diff Norm: '\n",
    "                  f'{torch.linalg.norm(CACHE_RELUS[layer_idx]-CACHE_RELUS_COPY[layer_idx])}')\n",
    "        # print()"
   ]
  },
  {
   "cell_type": "code",
   "execution_count": 36,
   "id": "775d6388-3238-4ab5-bc4e-918baf94b14b",
   "metadata": {
    "tags": []
   },
   "outputs": [
    {
     "data": {
      "text/plain": [
       "tensor([1.4142, 2.0000, 3.0000])"
      ]
     },
     "execution_count": 36,
     "metadata": {},
     "output_type": "execute_result"
    }
   ],
   "source": [
    "torch.sqrt(torch.tensor([2,4,9]))"
   ]
  },
  {
   "cell_type": "code",
   "execution_count": 37,
   "id": "d77853e0-e357-48b7-92f1-6a0c648af289",
   "metadata": {},
   "outputs": [
    {
     "data": {
      "image/png": "[encoded data removed]",
      "text/plain": [
       "<Figure size 640x480 with 1 Axes>"
      ]
     },
     "metadata": {},
     "output_type": "display_data"
    }
   ],
   "source": [
    "# Jacobian for Z-step\n",
    "plt.spy(J)\n",
    "plt.show()"
   ]
  },
  {
   "cell_type": "code",
   "execution_count": 39,
   "id": "fa8afe7e-7795-46b9-ad34-e5d221f37ebc",
   "metadata": {},
   "outputs": [
    {
     "name": "stdout",
     "output_type": "stream",
     "text": [
      "Trained model reconstruction results:\n"
     ]
    },
    {
     "data": {
      "image/png": "[encoded data removed]",
      "text/plain": [
       "<Figure size 1600x400 with 64 Axes>"
      ]
     },
     "metadata": {},
     "output_type": "display_data"
    }
   ],
   "source": [
    "for x, _ in train_loader:\n",
    "    x = x[:32].to(device)\n",
    "    with torch.no_grad():\n",
    "        z = model(x)\n",
    "    \n",
    "    print('Trained model reconstruction results:')\n",
    "    plot_progress(x, z)\n",
    "    \n",
    "    break"
   ]
  },
  {
   "cell_type": "code",
   "execution_count": null,
   "id": "a496e38a-949b-4a00-ae4c-0276894a8232",
   "metadata": {},
   "outputs": [],
   "source": []
  }
 ],
 "metadata": {
  "kernelspec": {
   "display_name": "eve3",
   "language": "python",
   "name": "eve3"
  },
  "language_info": {
   "codemirror_mode": {
    "name": "ipython",
    "version": 3
   },
   "file_extension": ".py",
   "mimetype": "text/x-python",
   "name": "python",
   "nbconvert_exporter": "python",
   "pygments_lexer": "ipython3",
   "version": "3.8.16"
  }
 },
 "nbformat": 4,
 "nbformat_minor": 5
}
